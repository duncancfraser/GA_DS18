{
 "metadata": {
  "name": "",
  "signature": "sha256:efcf4b4ab51c507cf22dc8cfadf64d92d425bd5bbdf4b7f9e0e095e5cc4658d3"
 },
 "nbformat": 3,
 "nbformat_minor": 0,
 "worksheets": [
  {
   "cells": [
    {
     "cell_type": "code",
     "collapsed": false,
     "input": [
      "import numpy as np\n",
      "def find_expected_value(confusion, cost_benefit):\n",
      "    # if you use a probability matrix instead, this next line will return the same matrix back\n",
      "    probabilities = confusion.astype('float') / confusion.sum()\n",
      "    return (probabilities * cost_benefit.astype('float')).sum()\n",
      "\n",
      "cb = np.array([[45.0, -30.0], [0, 0]])\n",
      "\n",
      "conf = np.array([[45423, 13041], [98724, 12324]])\n",
      "print find_expected_value(conf, cb)"
     ],
     "language": "python",
     "metadata": {},
     "outputs": [
      {
       "output_type": "stream",
       "stream": "stdout",
       "text": [
        "9.7503716551\n"
       ]
      }
     ],
     "prompt_number": 1
    },
    {
     "cell_type": "code",
     "collapsed": false,
     "input": [
      "new_conf = np.array([[62153, 7501], [4735, 32041]])\n",
      "new_cb = np.array([[25.0, -50.0], [0, 0]])\n",
      "find_expected_value(new_conf, new_cb)"
     ],
     "language": "python",
     "metadata": {},
     "outputs": [
      {
       "metadata": {},
       "output_type": "pyout",
       "prompt_number": 2,
       "text": [
        "11.075589589401485"
       ]
      }
     ],
     "prompt_number": 2
    },
    {
     "cell_type": "code",
     "collapsed": false,
     "input": [
      "lemons_cb = np.array([[0, 0], [-6278.22, 672.82]])\n",
      "lemons_confusion = np.array([[292, 66], [5997, 44733]])"
     ],
     "language": "python",
     "metadata": {},
     "outputs": [],
     "prompt_number": 3
    },
    {
     "cell_type": "code",
     "collapsed": false,
     "input": [
      "find_expected_value(lemons_confusion, lemons_cb)"
     ],
     "language": "python",
     "metadata": {},
     "outputs": [
      {
       "metadata": {},
       "output_type": "pyout",
       "prompt_number": 5,
       "text": [
        "-147.84740604447222"
       ]
      }
     ],
     "prompt_number": 5
    }
   ],
   "metadata": {}
  }
 ]
}