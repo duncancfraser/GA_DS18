{
 "metadata": {
  "name": "",
  "signature": "sha256:540a747338701a39f198820fa3f5ae05d81835d415892df7d0244ca0c6b401ba"
 },
 "nbformat": 3,
 "nbformat_minor": 0,
 "worksheets": [
  {
   "cells": [
    {
     "cell_type": "code",
     "collapsed": false,
     "input": [
      "%matplotlib inline"
     ],
     "language": "python",
     "metadata": {},
     "outputs": [],
     "prompt_number": 1
    },
    {
     "cell_type": "code",
     "collapsed": false,
     "input": [
      "import pandas as pd\n",
      "import matplotlib.pyplot as plt\n",
      "import seaborn as sns\n",
      "from sklearn import naive_bayes\n",
      "\n",
      "pd.set_option('display.width', 500)\n",
      "pd.set_option('display.max_columns', 30)\n",
      "\n",
      "critics = pd.read_csv('../../Data/rt_critics.csv')"
     ],
     "language": "python",
     "metadata": {},
     "outputs": [],
     "prompt_number": 2
    },
    {
     "cell_type": "code",
     "collapsed": false,
     "input": [
      "from sklearn.feature_extraction.text import CountVectorizer\n",
      "\n",
      "text = ['Math is great', 'Math is really great', 'Exciting exciting Math']\n",
      "\n",
      "CountVectorizer?\n",
      "\n",
      "# Like the learners in sklearn, CountVectorizer is a class; so `vectorizer` below represents an instance of that object.\n",
      "vectorizer = CountVectorizer(ngram_range=(1,2)) # Looking at uni- and bi-grams\n",
      "\n",
      "# call `fit` to build the vocabulary - sort of unsupervised, just looking for all the uni- and bi-grams\n",
      "vectorizer.fit(text)\n",
      "\n",
      "# then, use `get_feature_names` to return the tokens\n",
      "print vectorizer.get_feature_names()\n",
      "\n",
      "# finally, call `transform` to convert text to a bag of words\n",
      "x = vectorizer.transform(text)"
     ],
     "language": "python",
     "metadata": {},
     "outputs": [
      {
       "output_type": "stream",
       "stream": "stdout",
       "text": [
        "[u'exciting', u'exciting exciting', u'exciting math', u'great', u'is', u'is great', u'is really', u'math', u'math is', u'really', u'really great']\n"
       ]
      }
     ],
     "prompt_number": 3
    },
    {
     "cell_type": "code",
     "collapsed": false,
     "input": [
      "print 'Sparse Matrix'\n",
      "print x # A compressed version; the \"sparse\" matrix.\n",
      "print type(x) # type is from scipy, a library we've spoken very little of, but is pretty fantastic.\n",
      "print\n",
      "print 'Matrix'\n",
      "x_back = x.toarray()\n",
      "print x_back"
     ],
     "language": "python",
     "metadata": {},
     "outputs": [
      {
       "output_type": "stream",
       "stream": "stdout",
       "text": [
        "Sparse Matrix\n",
        "  (0, 3)\t1\n",
        "  (0, 4)\t1\n",
        "  (0, 5)\t1\n",
        "  (0, 7)\t1\n",
        "  (0, 8)\t1\n",
        "  (1, 3)\t1\n",
        "  (1, 4)\t1\n",
        "  (1, 6)\t1\n",
        "  (1, 7)\t1\n",
        "  (1, 8)\t1\n",
        "  (1, 9)\t1\n",
        "  (1, 10)\t1\n",
        "  (2, 0)\t2\n",
        "  (2, 1)\t1\n",
        "  (2, 2)\t1\n",
        "  (2, 7)\t1\n",
        "<class 'scipy.sparse.csr.csr_matrix'>\n",
        "\n",
        "Matrix\n",
        "[[0 0 0 1 1 1 0 1 1 0 0]\n",
        " [0 0 0 1 1 0 1 1 1 1 1]\n",
        " [2 1 1 0 0 0 0 1 0 0 0]]\n"
       ]
      }
     ],
     "prompt_number": 4
    },
    {
     "cell_type": "code",
     "collapsed": false,
     "input": [
      "pd.DataFrame(x_back, columns=vectorizer.get_feature_names()) #bring back to pandas\n",
      "#note it is case IN-sensitive"
     ],
     "language": "python",
     "metadata": {},
     "outputs": [
      {
       "html": [
        "<div style=\"max-height:1000px;max-width:1500px;overflow:auto;\">\n",
        "<table border=\"1\" class=\"dataframe\">\n",
        "  <thead>\n",
        "    <tr style=\"text-align: right;\">\n",
        "      <th></th>\n",
        "      <th>exciting</th>\n",
        "      <th>exciting exciting</th>\n",
        "      <th>exciting math</th>\n",
        "      <th>great</th>\n",
        "      <th>is</th>\n",
        "      <th>is great</th>\n",
        "      <th>is really</th>\n",
        "      <th>math</th>\n",
        "      <th>math is</th>\n",
        "      <th>really</th>\n",
        "      <th>really great</th>\n",
        "    </tr>\n",
        "  </thead>\n",
        "  <tbody>\n",
        "    <tr>\n",
        "      <th>0</th>\n",
        "      <td> 0</td>\n",
        "      <td> 0</td>\n",
        "      <td> 0</td>\n",
        "      <td> 1</td>\n",
        "      <td> 1</td>\n",
        "      <td> 1</td>\n",
        "      <td> 0</td>\n",
        "      <td> 1</td>\n",
        "      <td> 1</td>\n",
        "      <td> 0</td>\n",
        "      <td> 0</td>\n",
        "    </tr>\n",
        "    <tr>\n",
        "      <th>1</th>\n",
        "      <td> 0</td>\n",
        "      <td> 0</td>\n",
        "      <td> 0</td>\n",
        "      <td> 1</td>\n",
        "      <td> 1</td>\n",
        "      <td> 0</td>\n",
        "      <td> 1</td>\n",
        "      <td> 1</td>\n",
        "      <td> 1</td>\n",
        "      <td> 1</td>\n",
        "      <td> 1</td>\n",
        "    </tr>\n",
        "    <tr>\n",
        "      <th>2</th>\n",
        "      <td> 2</td>\n",
        "      <td> 1</td>\n",
        "      <td> 1</td>\n",
        "      <td> 0</td>\n",
        "      <td> 0</td>\n",
        "      <td> 0</td>\n",
        "      <td> 0</td>\n",
        "      <td> 1</td>\n",
        "      <td> 0</td>\n",
        "      <td> 0</td>\n",
        "      <td> 0</td>\n",
        "    </tr>\n",
        "  </tbody>\n",
        "</table>\n",
        "</div>"
       ],
       "metadata": {},
       "output_type": "pyout",
       "prompt_number": 5,
       "text": [
        "   exciting  exciting exciting  exciting math  great  is  is great  is really  math  math is  really  really great\n",
        "0         0                  0              0      1   1         1          0     1        1       0             0\n",
        "1         0                  0              0      1   1         0          1     1        1       1             1\n",
        "2         2                  1              1      0   0         0          0     1        0       0             0"
       ]
      }
     ],
     "prompt_number": 5
    },
    {
     "cell_type": "code",
     "collapsed": false,
     "input": [
      "rotten_vectorizer = vectorizer.fit(critics.quote) #if you just want to know feature names\n",
      "x = vectorizer.fit_transform(critics.quote)\n",
      "\n",
      "y = (critics.fresh == 'fresh').values.astype(int)"
     ],
     "language": "python",
     "metadata": {},
     "outputs": [],
     "prompt_number": 57
    },
    {
     "cell_type": "code",
     "collapsed": false,
     "input": [
      "def train_and_measure(classifier, x, y, t_size):\n",
      "    from sklearn import cross_validation\n",
      "    \"\"\"\n",
      "    Function accepts a classifier from sklearn and computes the accuracy measure for a random train and test split.\n",
      "    classifier: an sklearn class\n",
      "    x         : a matrix of features\n",
      "    y         : a vector of targets\n",
      "    \"\"\"\n",
      "    xtrain, xtest, ytrain, ytest = cross_validation.train_test_split(x, y, test_size=t_size, random_state=1234)\n",
      "    clf = classifier.fit(xtrain, ytrain)\n",
      "    #Print the accuracy on the test and training dataset\n",
      "    training_accuracy = clf.score(xtrain, ytrain)\n",
      "    test_accuracy = clf.score(xtest, ytest)\n",
      "    print classifier\n",
      "    print \"Accuracy on training data: %0.2f\" % (training_accuracy)\n",
      "    print \"Accuracy on test data:     %0.2f\" % (test_accuracy)\n",
      "    \n",
      "train_and_measure(naive_bayes.MultinomialNB(), x, y, 0.2)\n",
      "\n",
      "x_ones = (x > 1) # recall that a bernoulli interpretation will only work with 1s and 0s, or binary data.\n",
      "train_and_measure(naive_bayes.BernoulliNB(), x_ones, y, 0.2)\n",
      "\n",
      "# and for the heck of it:\n",
      "\n",
      "from sklearn import linear_model\n",
      "train_and_measure(linear_model.LogisticRegression(), x, y, 0.2)"
     ],
     "language": "python",
     "metadata": {},
     "outputs": [
      {
       "output_type": "stream",
       "stream": "stdout",
       "text": [
        "MultinomialNB(alpha=1.0, class_prior=None, fit_prior=True)\n",
        "Accuracy on training data: 0.99\n",
        "Accuracy on test data:     0.76\n",
        "BernoulliNB(alpha=1.0, binarize=0.0, class_prior=None, fit_prior=True)"
       ]
      },
      {
       "output_type": "stream",
       "stream": "stdout",
       "text": [
        "\n",
        "Accuracy on training data: 0.62\n",
        "Accuracy on test data:     0.59\n",
        "LogisticRegression(C=1.0, class_weight=None, dual=False, fit_intercept=True,\n",
        "          intercept_scaling=1, penalty='l2', random_state=None, tol=0.0001)"
       ]
      },
      {
       "output_type": "stream",
       "stream": "stdout",
       "text": [
        "\n",
        "Accuracy on training data: 1.00\n",
        "Accuracy on test data:     0.75\n"
       ]
      }
     ],
     "prompt_number": 8
    },
    {
     "cell_type": "code",
     "collapsed": false,
     "input": [
      "train_and_measure(naive_bayes.MultinomialNB(), x, y, 0.33)\n",
      "\n",
      "x_ones = (x > 1) # recall that a bernoulli interpretation will only work with 1s and 0s, or binary data.\n",
      "train_and_measure(naive_bayes.BernoulliNB(), x_ones, y, 0.33)\n",
      "\n",
      "\n",
      "# and for the heck of it:\n",
      "\n",
      "from sklearn import linear_model\n",
      "train_and_measure(linear_model.LogisticRegression(), x, y, 0.33)"
     ],
     "language": "python",
     "metadata": {},
     "outputs": [
      {
       "output_type": "stream",
       "stream": "stdout",
       "text": [
        "MultinomialNB(alpha=1.0, class_prior=None, fit_prior=True)\n",
        "Accuracy on training data: 0.99\n",
        "Accuracy on test data:     0.76\n",
        "BernoulliNB(alpha=1.0, binarize=0.0, class_prior=None, fit_prior=True)"
       ]
      },
      {
       "output_type": "stream",
       "stream": "stdout",
       "text": [
        "\n",
        "Accuracy on training data: 0.62\n",
        "Accuracy on test data:     0.60\n",
        "LogisticRegression(C=1.0, class_weight=None, dual=False, fit_intercept=True,\n",
        "          intercept_scaling=1, penalty='l2', random_state=None, tol=0.0001)"
       ]
      },
      {
       "output_type": "stream",
       "stream": "stdout",
       "text": [
        "\n",
        "Accuracy on training data: 1.00\n",
        "Accuracy on test data:     0.75\n"
       ]
      }
     ],
     "prompt_number": 9
    },
    {
     "cell_type": "markdown",
     "metadata": {},
     "source": [
      "#Your Turn: Writing a function that returns back the average and standard deviation of a k-fold cross validation\n",
      "\n",
      "We want a function that should do a very similar process as above, but now, to use k fold cross validation, and to return back two values: the mean and standard deviation accuracy from the k-fold train and test.\n",
      "\n",
      "Helper code below, use as you need. Steps to take:\n",
      "\n",
      "1. What are the arguments required in the function? What should be customizable?\n",
      "2. What code should never change?\n",
      "3. What should the return look like?\n",
      "\n",
      "After: Evaluate which model seems to do it's best on the set."
     ]
    },
    {
     "cell_type": "code",
     "collapsed": false,
     "input": [
      "def kfold_xvalid(classifier, x, y, shuffle_on, folds, return_plt=False):\n",
      "    \"\"\"\n",
      "    Function accepts a classifier from sklearn and computes the accuracy measure for a kfold cross validation.\n",
      "    classifier: an sklearn class\n",
      "    x         : a matrix of features\n",
      "    y         : a vector of targets\n",
      "    folds     : number of folds\n",
      "    \"\"\"\n",
      "    import numpy as np\n",
      "    from sklearn import cross_validation\n",
      "    kfold = cross_validation.KFold(n=x.shape[0], n_folds=folds, shuffle=shuffle_on, random_state=1234)\n",
      "    train_acc = []\n",
      "    test_acc = []\n",
      "    for train_index, test_index in kfold:\n",
      "        clf = classifier.fit(x[train_index], y[train_index])\n",
      "        train_acc.append(clf.score(x[train_index], y[train_index]))\n",
      "        test_acc.append(clf.score(x[test_index], y[test_index]))\n",
      "    \n",
      "    print 'Mean               : %f' % (np.array(test_acc).mean())\n",
      "    print 'Standard Deviation : %f' % (np.array(test_acc).std())\n",
      "    print '-'*30\n",
      "    if return_plt:\n",
      "        plt.figure()\n",
      "        sns.kdeplot(np.random.normal(loc=np.array(test_acc).mean(), scale=np.array(test_acc).std(), size=10000), shade=True)\n",
      "    \n",
      "kfold_xvalid(naive_bayes.MultinomialNB(), x, y, True, 5, True)\n",
      "\n",
      "x_ones = (x > 1)\n",
      "kfold_xvalid(naive_bayes.BernoulliNB(), x, y, True, 5, True)\n",
      "\n",
      "kfold_xvalid(linear_model.LogisticRegression(), x, y, True, 5, True)"
     ],
     "language": "python",
     "metadata": {},
     "outputs": [
      {
       "output_type": "stream",
       "stream": "stdout",
       "text": [
        "Mean               : 0.782122\n",
        "Standard Deviation : 0.010265\n",
        "------------------------------\n",
        "Mean               : 0.669345"
       ]
      },
      {
       "output_type": "stream",
       "stream": "stdout",
       "text": [
        "\n",
        "Standard Deviation : 0.012221\n",
        "------------------------------\n",
        "Mean               : 0.775300"
       ]
      },
      {
       "output_type": "stream",
       "stream": "stdout",
       "text": [
        "\n",
        "Standard Deviation : 0.011402\n",
        "------------------------------\n"
       ]
      },
      {
       "metadata": {},
       "output_type": "display_data",
       "png": "[encoded data removed]",
       "text": [
        "<matplotlib.figure.Figure at 0x10bf80a90>"
       ]
      },
      {
       "metadata": {},
       "output_type": "display_data",
       "png": "[encoded data removed]",
       "text": [
        "<matplotlib.figure.Figure at 0x10b040190>"
       ]
      },
      {
       "metadata": {},
       "output_type": "display_data",
       "png": "[encoded data removed]",
       "text": [
        "<matplotlib.figure.Figure at 0x10bf50d50>"
       ]
      }
     ],
     "prompt_number": 54
    },
    {
     "cell_type": "code",
     "collapsed": false,
     "input": [
      "kfold_xvalid(naive_bayes.MultinomialNB(), x, y, True, 8, True)\n",
      "\n",
      "x_ones = (x > 1)\n",
      "kfold_xvalid(naive_bayes.BernoulliNB(), x, y, True, 8, True)\n",
      "\n",
      "kfold_xvalid(linear_model.LogisticRegression(), x, y, True, 8, True)"
     ],
     "language": "python",
     "metadata": {},
     "outputs": [
      {
       "output_type": "stream",
       "stream": "stdout",
       "text": [
        "Mean               : 0.779775\n",
        "Standard Deviation : 0.011775\n",
        "------------------------------\n",
        "Mean               : 0.680713"
       ]
      },
      {
       "output_type": "stream",
       "stream": "stdout",
       "text": [
        "\n",
        "Standard Deviation : 0.010998\n",
        "------------------------------\n",
        "Mean               : 0.778709"
       ]
      },
      {
       "output_type": "stream",
       "stream": "stdout",
       "text": [
        "\n",
        "Standard Deviation : 0.013450\n",
        "------------------------------\n"
       ]
      }
     ],
     "prompt_number": 23
    },
    {
     "cell_type": "code",
     "collapsed": false,
     "input": [
      "def find_k(classifier, x, y, max_num_k):\n",
      "    import numpy as np\n",
      "    from sklearn import cross_validation\n",
      "    k_train_acc = []\n",
      "    k_test_acc = []\n",
      "    for i in range(2, max_num_k):\n",
      "        kfold = cross_validation.KFold(n=x.shape[0], n_folds=i, shuffle=True, random_state=1234)\n",
      "        test_acc, train_acc = [], []\n",
      "        for train_index, test_index in kfold:\n",
      "            clf = classifier.fit(x[train_index], y[train_index])\n",
      "            train_acc.append(clf.score(x[train_index], y[train_index]))\n",
      "            test_acc.append(clf.score(x[test_index], y[test_index]))\n",
      "        k_train_acc.append(np.array(train_acc).mean())\n",
      "        k_test_acc.append(np.array(test_acc).mean())\n",
      "\n",
      "    print 'Fit Chart'\n",
      "    plt.figure()\n",
      "    plt.plot(range(2, max_num_k), k_train_acc)\n",
      "    plt.plot(range(2, max_num_k), k_test_acc)\n",
      "\n",
      "find_k(naive_bayes.BernoulliNB(), x, y, 20)"
     ],
     "language": "python",
     "metadata": {},
     "outputs": [
      {
       "output_type": "stream",
       "stream": "stdout",
       "text": [
        "Fit Chart\n"
       ]
      },
      {
       "metadata": {},
       "output_type": "display_data",
       "png": "[encoded data removed]",
       "text": [
        "<matplotlib.figure.Figure at 0x10b059250>"
       ]
      }
     ],
     "prompt_number": 12
    },
    {
     "cell_type": "code",
     "collapsed": false,
     "input": [
      "from sklearn.metrics import confusion_matrix\n",
      "from __future__ import division\n",
      "\n",
      "y_true = y\n",
      "y_pred = naive_bayes.MultinomialNB().predict(x)\n",
      "clf = naive_bayes.MultinomialNB().fit(x)\n",
      "\n",
      "'''\n",
      "Note! the confusion matrix here will be [0 1],\n",
      "not [1, 0] as in the above image.\n",
      "'''\n",
      "conf = confusion_matrix(y_true, y_pred)\n",
      "\n",
      "print ' The Matrix:'\n",
      "print conf\n",
      "\n",
      "print\n",
      "print 'Overall Score     : %f' % (clf.score(x, y))\n",
      "print 'Predicting Rotten : %f' % (conf[0, 0] / (conf[0, 0] + conf[0, 1]))\n",
      "print 'Predicting Fresh  : %f' % (conf[1, 1] / (conf[1, 0] + conf[1, 1]))"
     ],
     "language": "python",
     "metadata": {},
     "outputs": [
      {
       "ename": "AttributeError",
       "evalue": "'MultinomialNB' object has no attribute 'feature_log_prob_'",
       "output_type": "pyerr",
       "traceback": [
        "\u001b[0;31m---------------------------------------------------------------------------\u001b[0m\n\u001b[0;31mAttributeError\u001b[0m                            Traceback (most recent call last)",
        "\u001b[0;32m<ipython-input-56-b0545d80a28a>\u001b[0m in \u001b[0;36m<module>\u001b[0;34m()\u001b[0m\n\u001b[1;32m      3\u001b[0m \u001b[0;34m\u001b[0m\u001b[0m\n\u001b[1;32m      4\u001b[0m \u001b[0my_true\u001b[0m \u001b[0;34m=\u001b[0m \u001b[0my\u001b[0m\u001b[0;34m\u001b[0m\u001b[0m\n\u001b[0;32m----> 5\u001b[0;31m \u001b[0my_pred\u001b[0m \u001b[0;34m=\u001b[0m \u001b[0mnaive_bayes\u001b[0m\u001b[0;34m.\u001b[0m\u001b[0mMultinomialNB\u001b[0m\u001b[0;34m(\u001b[0m\u001b[0;34m)\u001b[0m\u001b[0;34m.\u001b[0m\u001b[0mpredict\u001b[0m\u001b[0;34m(\u001b[0m\u001b[0mx\u001b[0m\u001b[0;34m)\u001b[0m\u001b[0;34m\u001b[0m\u001b[0m\n\u001b[0m\u001b[1;32m      6\u001b[0m \u001b[0mclf\u001b[0m \u001b[0;34m=\u001b[0m \u001b[0mnaive_bayes\u001b[0m\u001b[0;34m.\u001b[0m\u001b[0mMultinomialNB\u001b[0m\u001b[0;34m(\u001b[0m\u001b[0;34m)\u001b[0m\u001b[0;34m.\u001b[0m\u001b[0mfit\u001b[0m\u001b[0;34m(\u001b[0m\u001b[0mx\u001b[0m\u001b[0;34m)\u001b[0m\u001b[0;34m\u001b[0m\u001b[0m\n\u001b[1;32m      7\u001b[0m \u001b[0;34m\u001b[0m\u001b[0m\n",
        "\u001b[0;32m//anaconda/lib/python2.7/site-packages/sklearn/naive_bayes.pyc\u001b[0m in \u001b[0;36mpredict\u001b[0;34m(self, X)\u001b[0m\n\u001b[1;32m     60\u001b[0m             \u001b[0mPredicted\u001b[0m \u001b[0mtarget\u001b[0m \u001b[0mvalues\u001b[0m \u001b[0;32mfor\u001b[0m \u001b[0mX\u001b[0m\u001b[0;34m\u001b[0m\u001b[0m\n\u001b[1;32m     61\u001b[0m         \"\"\"\n\u001b[0;32m---> 62\u001b[0;31m         \u001b[0mjll\u001b[0m \u001b[0;34m=\u001b[0m \u001b[0mself\u001b[0m\u001b[0;34m.\u001b[0m\u001b[0m_joint_log_likelihood\u001b[0m\u001b[0;34m(\u001b[0m\u001b[0mX\u001b[0m\u001b[0;34m)\u001b[0m\u001b[0;34m\u001b[0m\u001b[0m\n\u001b[0m\u001b[1;32m     63\u001b[0m         \u001b[0;32mreturn\u001b[0m \u001b[0mself\u001b[0m\u001b[0;34m.\u001b[0m\u001b[0mclasses_\u001b[0m\u001b[0;34m[\u001b[0m\u001b[0mnp\u001b[0m\u001b[0;34m.\u001b[0m\u001b[0margmax\u001b[0m\u001b[0;34m(\u001b[0m\u001b[0mjll\u001b[0m\u001b[0;34m,\u001b[0m \u001b[0maxis\u001b[0m\u001b[0;34m=\u001b[0m\u001b[0;36m1\u001b[0m\u001b[0;34m)\u001b[0m\u001b[0;34m]\u001b[0m\u001b[0;34m\u001b[0m\u001b[0m\n\u001b[1;32m     64\u001b[0m \u001b[0;34m\u001b[0m\u001b[0m\n",
        "\u001b[0;32m//anaconda/lib/python2.7/site-packages/sklearn/naive_bayes.pyc\u001b[0m in \u001b[0;36m_joint_log_likelihood\u001b[0;34m(self, X)\u001b[0m\n\u001b[1;32m    439\u001b[0m         \u001b[0;34m\"\"\"Calculate the posterior log probability of the samples X\"\"\"\u001b[0m\u001b[0;34m\u001b[0m\u001b[0m\n\u001b[1;32m    440\u001b[0m         \u001b[0mX\u001b[0m \u001b[0;34m=\u001b[0m \u001b[0matleast2d_or_csr\u001b[0m\u001b[0;34m(\u001b[0m\u001b[0mX\u001b[0m\u001b[0;34m)\u001b[0m\u001b[0;34m\u001b[0m\u001b[0m\n\u001b[0;32m--> 441\u001b[0;31m         return (safe_sparse_dot(X, self.feature_log_prob_.T)\n\u001b[0m\u001b[1;32m    442\u001b[0m                 + self.class_log_prior_)\n\u001b[1;32m    443\u001b[0m \u001b[0;34m\u001b[0m\u001b[0m\n",
        "\u001b[0;31mAttributeError\u001b[0m: 'MultinomialNB' object has no attribute 'feature_log_prob_'"
       ]
      }
     ],
     "prompt_number": 56
    },
    {
     "cell_type": "code",
     "collapsed": false,
     "input": [
      "# Review errors\n",
      "prob = clf.predict_proba(x)[:, 0]\n",
      "bad_rotten = np.argsort(prob[y == 0])[:5]\n",
      "bad_fresh = np.argsort(prob[y == 1])[-5:]\n",
      "\n",
      "print \"Mis-predicted Rotten quotes\"\n",
      "print '---------------------------'\n",
      "for row in bad_rotten:\n",
      "    print critics[y == 0].quote.irow(row)\n",
      "    print\n",
      "\n",
      "print \"Mis-predicted Fresh quotes\"\n",
      "print '--------------------------'\n",
      "for row in bad_fresh:\n",
      "    print critics[y == 1].quote.irow(row)\n",
      "    print"
     ],
     "language": "python",
     "metadata": {},
     "outputs": [
      {
       "ename": "NameError",
       "evalue": "name 'clf' is not defined",
       "output_type": "pyerr",
       "traceback": [
        "\u001b[0;31m---------------------------------------------------------------------------\u001b[0m\n\u001b[0;31mNameError\u001b[0m                                 Traceback (most recent call last)",
        "\u001b[0;32m<ipython-input-15-54b512cbb642>\u001b[0m in \u001b[0;36m<module>\u001b[0;34m()\u001b[0m\n\u001b[1;32m      1\u001b[0m \u001b[0;31m# Review errors\u001b[0m\u001b[0;34m\u001b[0m\u001b[0;34m\u001b[0m\u001b[0m\n\u001b[0;32m----> 2\u001b[0;31m \u001b[0mprob\u001b[0m \u001b[0;34m=\u001b[0m \u001b[0mclf\u001b[0m\u001b[0;34m.\u001b[0m\u001b[0mpredict_proba\u001b[0m\u001b[0;34m(\u001b[0m\u001b[0mx\u001b[0m\u001b[0;34m)\u001b[0m\u001b[0;34m[\u001b[0m\u001b[0;34m:\u001b[0m\u001b[0;34m,\u001b[0m \u001b[0;36m0\u001b[0m\u001b[0;34m]\u001b[0m\u001b[0;34m\u001b[0m\u001b[0m\n\u001b[0m\u001b[1;32m      3\u001b[0m \u001b[0mbad_rotten\u001b[0m \u001b[0;34m=\u001b[0m \u001b[0mnp\u001b[0m\u001b[0;34m.\u001b[0m\u001b[0margsort\u001b[0m\u001b[0;34m(\u001b[0m\u001b[0mprob\u001b[0m\u001b[0;34m[\u001b[0m\u001b[0my\u001b[0m \u001b[0;34m==\u001b[0m \u001b[0;36m0\u001b[0m\u001b[0;34m]\u001b[0m\u001b[0;34m)\u001b[0m\u001b[0;34m[\u001b[0m\u001b[0;34m:\u001b[0m\u001b[0;36m5\u001b[0m\u001b[0;34m]\u001b[0m\u001b[0;34m\u001b[0m\u001b[0m\n\u001b[1;32m      4\u001b[0m \u001b[0mbad_fresh\u001b[0m \u001b[0;34m=\u001b[0m \u001b[0mnp\u001b[0m\u001b[0;34m.\u001b[0m\u001b[0margsort\u001b[0m\u001b[0;34m(\u001b[0m\u001b[0mprob\u001b[0m\u001b[0;34m[\u001b[0m\u001b[0my\u001b[0m \u001b[0;34m==\u001b[0m \u001b[0;36m1\u001b[0m\u001b[0;34m]\u001b[0m\u001b[0;34m)\u001b[0m\u001b[0;34m[\u001b[0m\u001b[0;34m-\u001b[0m\u001b[0;36m5\u001b[0m\u001b[0;34m:\u001b[0m\u001b[0;34m]\u001b[0m\u001b[0;34m\u001b[0m\u001b[0m\n\u001b[1;32m      5\u001b[0m \u001b[0;34m\u001b[0m\u001b[0m\n",
        "\u001b[0;31mNameError\u001b[0m: name 'clf' is not defined"
       ]
      }
     ],
     "prompt_number": 15
    },
    {
     "cell_type": "code",
     "collapsed": false,
     "input": [
      "critics[critics['quote'].str.contains(\"audacious in its\")]"
     ],
     "language": "python",
     "metadata": {},
     "outputs": [
      {
       "html": [
        "<div style=\"max-height:1000px;max-width:1500px;overflow:auto;\">\n",
        "<table border=\"1\" class=\"dataframe\">\n",
        "  <thead>\n",
        "    <tr style=\"text-align: right;\">\n",
        "      <th></th>\n",
        "      <th>critic</th>\n",
        "      <th>fresh</th>\n",
        "      <th>imdb</th>\n",
        "      <th>publication</th>\n",
        "      <th>quote</th>\n",
        "      <th>review_date</th>\n",
        "      <th>rtid</th>\n",
        "      <th>title</th>\n",
        "    </tr>\n",
        "  </thead>\n",
        "  <tbody>\n",
        "    <tr>\n",
        "      <th>7658</th>\n",
        "      <td> Mick LaSalle</td>\n",
        "      <td> rotten</td>\n",
        "      <td> 386117</td>\n",
        "      <td> San Francisco Chronicle</td>\n",
        "      <td> Where the Wild Things Are is audacious in its ...</td>\n",
        "      <td> 2009-10-16</td>\n",
        "      <td> 770671948</td>\n",
        "      <td> Where the Wild Things Are</td>\n",
        "    </tr>\n",
        "  </tbody>\n",
        "</table>\n",
        "</div>"
       ],
       "metadata": {},
       "output_type": "pyout",
       "prompt_number": 16,
       "text": [
        "            critic   fresh    imdb              publication                                              quote review_date       rtid                      title\n",
        "7658  Mick LaSalle  rotten  386117  San Francisco Chronicle  Where the Wild Things Are is audacious in its ...  2009-10-16  770671948  Where the Wild Things Are"
       ]
      }
     ],
     "prompt_number": 16
    },
    {
     "cell_type": "code",
     "collapsed": false,
     "input": [
      "critics[critics['quote'].str.contains(\"own payoff is\")]"
     ],
     "language": "python",
     "metadata": {},
     "outputs": [
      {
       "html": [
        "<div style=\"max-height:1000px;max-width:1500px;overflow:auto;\">\n",
        "<table border=\"1\" class=\"dataframe\">\n",
        "  <thead>\n",
        "    <tr style=\"text-align: right;\">\n",
        "      <th></th>\n",
        "      <th>critic</th>\n",
        "      <th>fresh</th>\n",
        "      <th>imdb</th>\n",
        "      <th>publication</th>\n",
        "      <th>quote</th>\n",
        "      <th>review_date</th>\n",
        "      <th>rtid</th>\n",
        "      <th>title</th>\n",
        "    </tr>\n",
        "  </thead>\n",
        "  <tbody>\n",
        "    <tr>\n",
        "      <th>5965</th>\n",
        "      <td> Mike Clark</td>\n",
        "      <td> fresh</td>\n",
        "      <td> 115710</td>\n",
        "      <td> USA Today</td>\n",
        "      <td> The movie's own payoff is compelling enough, b...</td>\n",
        "      <td> 2000-01-01</td>\n",
        "      <td> 364525542</td>\n",
        "      <td> Blood and Wine</td>\n",
        "    </tr>\n",
        "  </tbody>\n",
        "</table>\n",
        "</div>"
       ],
       "metadata": {},
       "output_type": "pyout",
       "prompt_number": 17,
       "text": [
        "          critic  fresh    imdb publication                                              quote review_date       rtid           title\n",
        "5965  Mike Clark  fresh  115710   USA Today  The movie's own payoff is compelling enough, b...  2000-01-01  364525542  Blood and Wine"
       ]
      }
     ],
     "prompt_number": 17
    },
    {
     "cell_type": "markdown",
     "metadata": {},
     "source": [
      "#My Turn\n",
      "Given the text and classifier above, there is still plenty we can do to work through data cleanup and improve the model.\n",
      "\n",
      "* Consider feature selection here: we haven't dropped a single feature! How could we evaluate this process? (check out f_classif)\n",
      "* Last class we experimented with nltk and the part of speach tagger. Consider replacing words with parts of speach instead (using the default tagger), or other text processing tools (remove the stopwords... or just keep the stopwords!)\n",
      "* What else is in the quote that we could identify and replace more easily?\n",
      "\n",
      "This is an assignment that is due on Monday. Give it a shot!"
     ]
    },
    {
     "cell_type": "code",
     "collapsed": false,
     "input": [
      "def no_stop(q):\n",
      "    import nltk\n",
      "    import string\n",
      "    import re\n",
      "    cleaned = []\n",
      "    for quote in q:\n",
      "        quote = quote.lower()\n",
      "        quote = quote.translate(string.maketrans(\"\",\"\"), string.punctuation)\n",
      "        words = nltk.tokenize.wordpunct_tokenize(quote)\n",
      "        stopwords_filter = set(nltk.corpus.stopwords.words('english'))\n",
      "        words = [word for word in words if word not in stopwords_filter]\n",
      "        words = str(words)\n",
      "        cleaned += words\n",
      "    return cleaned\n",
      "\n",
      "def only_stop(q):\n",
      "    import nltk\n",
      "    import string\n",
      "    import re\n",
      "    quote = q\n",
      "    quote = quote.lower()\n",
      "    quote = quote.translate(string.maketrans(\"\",\"\"), string.punctuation)\n",
      "    words = nltk.tokenize.wordpunct_tokenize(q)\n",
      "    stopwords_filter = set(nltk.corpus.stopwords.words('english'))\n",
      "    words = [word for word in words if word in stopwords_filter]\n",
      "    return words\n",
      "\n",
      "def sig_feature(x, y, threshold=0.5):\n",
      "    \"\"\"Given a column list, a feature set, a target, and a p value threshold, return all columns that show low p-values.\n",
      "    x         : dataframe containing the feature set\n",
      "    y         : target values for the model\n",
      "    threshold : default is 0.5, threshold p value that each feature must fall below\n",
      "    \"\"\"\n",
      "    from sklearn import feature_selection as f_select\n",
      "    df_classif = f_select.f_classif(x, y)\n",
      "    df_filter = df_classif[[df_classif[1]<float(threshold)]]\n",
      "    return df_filter"
     ],
     "language": "python",
     "metadata": {},
     "outputs": [],
     "prompt_number": 74
    },
    {
     "cell_type": "code",
     "collapsed": false,
     "input": [
      "critics['quote_no_stop'] = critics.quote.apply(no_stop)\n",
      "#critics['quote_only_stop'] = critics.quote.apply(only_stop)\n",
      "\n",
      "\n",
      "x_nostop = vectorizer.fit_transform(only_stop(critics.quote_no_stop))\n",
      "#x_stop = vectorizer.fit_transform(no_stop(critics.quote_only_stop))\n",
      "\n",
      "xns_ones = (x_nostop > 1)\n",
      "#xos_ones = (x_stop > 1)"
     ],
     "language": "python",
     "metadata": {},
     "outputs": [
      {
       "ename": "AttributeError",
       "evalue": "'Series' object has no attribute 'lower'",
       "output_type": "pyerr",
       "traceback": [
        "\u001b[0;31m---------------------------------------------------------------------------\u001b[0m\n\u001b[0;31mAttributeError\u001b[0m                            Traceback (most recent call last)",
        "\u001b[0;32m<ipython-input-75-fc730418df1e>\u001b[0m in \u001b[0;36m<module>\u001b[0;34m()\u001b[0m\n\u001b[1;32m      3\u001b[0m \u001b[0;34m\u001b[0m\u001b[0m\n\u001b[1;32m      4\u001b[0m \u001b[0;34m\u001b[0m\u001b[0m\n\u001b[0;32m----> 5\u001b[0;31m \u001b[0mx_nostop\u001b[0m \u001b[0;34m=\u001b[0m \u001b[0mvectorizer\u001b[0m\u001b[0;34m.\u001b[0m\u001b[0mfit_transform\u001b[0m\u001b[0;34m(\u001b[0m\u001b[0monly_stop\u001b[0m\u001b[0;34m(\u001b[0m\u001b[0mcritics\u001b[0m\u001b[0;34m.\u001b[0m\u001b[0mquote_no_stop\u001b[0m\u001b[0;34m)\u001b[0m\u001b[0;34m)\u001b[0m\u001b[0;34m\u001b[0m\u001b[0m\n\u001b[0m\u001b[1;32m      6\u001b[0m \u001b[0;31m#x_stop = vectorizer.fit_transform(no_stop(critics.quote_only_stop))\u001b[0m\u001b[0;34m\u001b[0m\u001b[0;34m\u001b[0m\u001b[0m\n\u001b[1;32m      7\u001b[0m \u001b[0;34m\u001b[0m\u001b[0m\n",
        "\u001b[0;32m<ipython-input-74-50ce0ea71138>\u001b[0m in \u001b[0;36monly_stop\u001b[0;34m(q)\u001b[0m\n\u001b[1;32m     19\u001b[0m     \u001b[0;32mimport\u001b[0m \u001b[0mre\u001b[0m\u001b[0;34m\u001b[0m\u001b[0m\n\u001b[1;32m     20\u001b[0m     \u001b[0mquote\u001b[0m \u001b[0;34m=\u001b[0m \u001b[0mq\u001b[0m\u001b[0;34m\u001b[0m\u001b[0m\n\u001b[0;32m---> 21\u001b[0;31m     \u001b[0mquote\u001b[0m \u001b[0;34m=\u001b[0m \u001b[0mquote\u001b[0m\u001b[0;34m.\u001b[0m\u001b[0mlower\u001b[0m\u001b[0;34m(\u001b[0m\u001b[0;34m)\u001b[0m\u001b[0;34m\u001b[0m\u001b[0m\n\u001b[0m\u001b[1;32m     22\u001b[0m     \u001b[0mquote\u001b[0m \u001b[0;34m=\u001b[0m \u001b[0mquote\u001b[0m\u001b[0;34m.\u001b[0m\u001b[0mtranslate\u001b[0m\u001b[0;34m(\u001b[0m\u001b[0mstring\u001b[0m\u001b[0;34m.\u001b[0m\u001b[0mmaketrans\u001b[0m\u001b[0;34m(\u001b[0m\u001b[0;34m\"\"\u001b[0m\u001b[0;34m,\u001b[0m\u001b[0;34m\"\"\u001b[0m\u001b[0;34m)\u001b[0m\u001b[0;34m,\u001b[0m \u001b[0mstring\u001b[0m\u001b[0;34m.\u001b[0m\u001b[0mpunctuation\u001b[0m\u001b[0;34m)\u001b[0m\u001b[0;34m\u001b[0m\u001b[0m\n\u001b[1;32m     23\u001b[0m     \u001b[0mwords\u001b[0m \u001b[0;34m=\u001b[0m \u001b[0mnltk\u001b[0m\u001b[0;34m.\u001b[0m\u001b[0mtokenize\u001b[0m\u001b[0;34m.\u001b[0m\u001b[0mwordpunct_tokenize\u001b[0m\u001b[0;34m(\u001b[0m\u001b[0mq\u001b[0m\u001b[0;34m)\u001b[0m\u001b[0;34m\u001b[0m\u001b[0m\n",
        "\u001b[0;32m//anaconda/lib/python2.7/site-packages/pandas/core/generic.pyc\u001b[0m in \u001b[0;36m__getattr__\u001b[0;34m(self, name)\u001b[0m\n\u001b[1;32m   1945\u001b[0m                 \u001b[0;32mreturn\u001b[0m \u001b[0mself\u001b[0m\u001b[0;34m[\u001b[0m\u001b[0mname\u001b[0m\u001b[0;34m]\u001b[0m\u001b[0;34m\u001b[0m\u001b[0m\n\u001b[1;32m   1946\u001b[0m             raise AttributeError(\"'%s' object has no attribute '%s'\" %\n\u001b[0;32m-> 1947\u001b[0;31m                                  (type(self).__name__, name))\n\u001b[0m\u001b[1;32m   1948\u001b[0m \u001b[0;34m\u001b[0m\u001b[0m\n\u001b[1;32m   1949\u001b[0m     \u001b[0;32mdef\u001b[0m \u001b[0m__setattr__\u001b[0m\u001b[0;34m(\u001b[0m\u001b[0mself\u001b[0m\u001b[0;34m,\u001b[0m \u001b[0mname\u001b[0m\u001b[0;34m,\u001b[0m \u001b[0mvalue\u001b[0m\u001b[0;34m)\u001b[0m\u001b[0;34m:\u001b[0m\u001b[0;34m\u001b[0m\u001b[0m\n",
        "\u001b[0;31mAttributeError\u001b[0m: 'Series' object has no attribute 'lower'"
       ]
      }
     ],
     "prompt_number": 75
    },
    {
     "cell_type": "code",
     "collapsed": false,
     "input": [
      "sig_feature(x, y)"
     ],
     "language": "python",
     "metadata": {},
     "outputs": [
      {
       "ename": "TypeError",
       "evalue": "tuple indices must be integers, not list",
       "output_type": "pyerr",
       "traceback": [
        "\u001b[0;31m---------------------------------------------------------------------------\u001b[0m\n\u001b[0;31mTypeError\u001b[0m                                 Traceback (most recent call last)",
        "\u001b[0;32m<ipython-input-76-f37d143d3893>\u001b[0m in \u001b[0;36m<module>\u001b[0;34m()\u001b[0m\n\u001b[0;32m----> 1\u001b[0;31m \u001b[0msig_feature\u001b[0m\u001b[0;34m(\u001b[0m\u001b[0mx\u001b[0m\u001b[0;34m,\u001b[0m \u001b[0my\u001b[0m\u001b[0;34m)\u001b[0m\u001b[0;34m\u001b[0m\u001b[0m\n\u001b[0m",
        "\u001b[0;32m<ipython-input-74-50ce0ea71138>\u001b[0m in \u001b[0;36msig_feature\u001b[0;34m(x, y, threshold)\u001b[0m\n\u001b[1;32m     34\u001b[0m     \u001b[0;32mfrom\u001b[0m \u001b[0msklearn\u001b[0m \u001b[0;32mimport\u001b[0m \u001b[0mfeature_selection\u001b[0m \u001b[0;32mas\u001b[0m \u001b[0mf_select\u001b[0m\u001b[0;34m\u001b[0m\u001b[0m\n\u001b[1;32m     35\u001b[0m     \u001b[0mdf_classif\u001b[0m \u001b[0;34m=\u001b[0m \u001b[0mf_select\u001b[0m\u001b[0;34m.\u001b[0m\u001b[0mf_classif\u001b[0m\u001b[0;34m(\u001b[0m\u001b[0mx\u001b[0m\u001b[0;34m,\u001b[0m \u001b[0my\u001b[0m\u001b[0;34m)\u001b[0m\u001b[0;34m\u001b[0m\u001b[0m\n\u001b[0;32m---> 36\u001b[0;31m     \u001b[0mdf_filter\u001b[0m \u001b[0;34m=\u001b[0m \u001b[0mdf_classif\u001b[0m\u001b[0;34m[\u001b[0m\u001b[0;34m[\u001b[0m\u001b[0mdf_classif\u001b[0m\u001b[0;34m[\u001b[0m\u001b[0;36m1\u001b[0m\u001b[0;34m]\u001b[0m\u001b[0;34m<\u001b[0m\u001b[0mfloat\u001b[0m\u001b[0;34m(\u001b[0m\u001b[0mthreshold\u001b[0m\u001b[0;34m)\u001b[0m\u001b[0;34m]\u001b[0m\u001b[0;34m]\u001b[0m\u001b[0;34m\u001b[0m\u001b[0m\n\u001b[0m\u001b[1;32m     37\u001b[0m     \u001b[0;32mreturn\u001b[0m \u001b[0mdf_filter\u001b[0m\u001b[0;34m\u001b[0m\u001b[0m\n",
        "\u001b[0;31mTypeError\u001b[0m: tuple indices must be integers, not list"
       ]
      }
     ],
     "prompt_number": 76
    },
    {
     "cell_type": "code",
     "collapsed": false,
     "input": [
      "print upper('Multinomial Stop Words Only')\n",
      "train_and_measure(naive_bayes.MultinomialNB(), x_stop, y, 0.33)\n",
      "print upper('Multinonial No Stop Words')\n",
      "train_and_measure(naive_bayes.MultinomialNB(), x_nostop, y, 0.33)\n",
      "print upper('Bernoulli Stop Words Only')\n",
      "train_and_measure(naive_bayes.BernoulliNB(), xos_ones, y, 0.33)\n",
      "print upper('Bernoulli No Stop Words')\n",
      "train_and_measure(naive_bayes.BernoulliNB(), xns_ones, y, 0.33)"
     ],
     "language": "python",
     "metadata": {},
     "outputs": []
    }
   ],
   "metadata": {}
  }
 ]
}