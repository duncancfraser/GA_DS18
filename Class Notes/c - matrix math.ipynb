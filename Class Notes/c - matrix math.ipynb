{
 "metadata": {
  "name": "",
  "signature": "sha256:a8969965860ac75a4476b8f1ccf65002fc2d005415d54a4747909c379cb2ab81"
 },
 "nbformat": 3,
 "nbformat_minor": 0,
 "worksheets": [
  {
   "cells": [
    {
     "cell_type": "code",
     "collapsed": false,
     "input": [
      "3.385+0.48+1.35+465+36.33"
     ],
     "language": "python",
     "metadata": {},
     "outputs": [
      {
       "metadata": {},
       "output_type": "pyout",
       "prompt_number": 4,
       "text": [
        "506.54499999999996"
       ]
      }
     ],
     "prompt_number": 4
    },
    {
     "cell_type": "code",
     "collapsed": false,
     "input": [
      "3.385**2+0.48**2+1.35**2+465**2+36.33**2"
     ],
     "language": "python",
     "metadata": {},
     "outputs": [
      {
       "metadata": {},
       "output_type": "pyout",
       "prompt_number": 5,
       "text": [
        "217558.380025"
       ]
      }
     ],
     "prompt_number": 5
    },
    {
     "cell_type": "code",
     "collapsed": false,
     "input": [
      "(3.385+0.48+1.35+465+36.33)**2"
     ],
     "language": "python",
     "metadata": {},
     "outputs": [
      {
       "metadata": {},
       "output_type": "pyout",
       "prompt_number": 6,
       "text": [
        "256587.83702499996"
       ]
      }
     ],
     "prompt_number": 6
    },
    {
     "cell_type": "code",
     "collapsed": false,
     "input": [
      "5*217558.380025 "
     ],
     "language": "python",
     "metadata": {},
     "outputs": [
      {
       "metadata": {},
       "output_type": "pyout",
       "prompt_number": 7,
       "text": [
        "1087791.900125"
       ]
      }
     ],
     "prompt_number": 7
    },
    {
     "cell_type": "code",
     "collapsed": false,
     "input": [
      "1/(1087791.900125 - 256587.83702499996)"
     ],
     "language": "python",
     "metadata": {},
     "outputs": [
      {
       "metadata": {},
       "output_type": "pyout",
       "prompt_number": 8,
       "text": [
        "1.2030740035972281e-06"
       ]
      }
     ],
     "prompt_number": 8
    },
    {
     "cell_type": "code",
     "collapsed": false,
     "input": [
      "import pandas as pd\n",
      "import numpy as np\n",
      "from sklearn import linear_model as lm\n",
      "\n",
      "practice_set = pd.DataFrame({\n",
      "    'x': [3.385, 0.48, 1.35, 465, 36.33],\n",
      "    'y': [44.5, 15.5, 8.1, 423, 119.5],\n",
      "})\n",
      "\n",
      "A = np.array([[1, 1, 1, 1, 1], practice_set['x']])\n",
      "print 'step one check'\n",
      "print np.linalg.inv(A.dot(A.T)).dot(A.dot(practice_set['y']))\n",
      "\n",
      "model = lm.LinearRegression().fit(practice_set[['x']], practice_set['y'])\n",
      "print 'intercept and coefficient'\n",
      "print model.intercept_\n",
      "print model.coef_"
     ],
     "language": "python",
     "metadata": {},
     "outputs": [
      {
       "output_type": "stream",
       "stream": "stdout",
       "text": [
        "step one check\n",
        "[ 37.20089608   0.83821876]\n",
        "intercept and coefficient\n",
        "37.2008960793\n",
        "[ 0.83821876]\n"
       ]
      }
     ],
     "prompt_number": 10
    },
    {
     "cell_type": "code",
     "collapsed": false,
     "input": [],
     "language": "python",
     "metadata": {},
     "outputs": []
    }
   ],
   "metadata": {}
  }
 ]
}