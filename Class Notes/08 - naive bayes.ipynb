{
 "cells": [
  {
   "cell_type": "markdown",
   "metadata": {},
   "source": [
    "#Classifying Text with Naive Bayes\n",
    "###March 4, 2015"
   ]
  },
  {
   "cell_type": "code",
   "execution_count": 1,
   "metadata": {
    "collapsed": false
   },
   "outputs": [],
   "source": [
    "%matplotlib inline"
   ]
  },
  {
   "cell_type": "code",
   "execution_count": 2,
   "metadata": {
    "collapsed": false
   },
   "outputs": [],
   "source": [
    "import pandas as pd\n",
    "import matplotlib.pyplot as plt\n",
    "import seaborn as sns\n",
    "from sklearn import naive_bayes\n",
    "\n",
    "pd.set_option('display.width', 500)\n",
    "pd.set_option('display.max_columns', 30)\n",
    "\n",
    "critics = pd.read_csv('../../Data/rt_critics.csv')"
   ]
  },
  {
   "cell_type": "code",
   "execution_count": 3,
   "metadata": {
    "collapsed": false
   },
   "outputs": [
    {
     "name": "stdout",
     "output_type": "stream",
     "text": [
      "[u'exciting', u'exciting exciting', u'exciting math', u'great', u'is', u'is great', u'is really', u'math', u'math is', u'really', u'really great']\n"
     ]
    }
   ],
   "source": [
    "from sklearn.feature_extraction.text import CountVectorizer\n",
    "\n",
    "text = ['Math is great', 'Math is really great', 'Exciting exciting Math']\n",
    "\n",
    "CountVectorizer?\n",
    "\n",
    "# Like the learners in sklearn, CountVectorizer is a class; so `vectorizer` below represents an instance of that object.\n",
    "vectorizer = CountVectorizer(ngram_range=(1,2)) # Looking at uni- and bi-grams\n",
    "\n",
    "# call `fit` to build the vocabulary - sort of unsupervised, just looking for all the uni- and bi-grams\n",
    "vectorizer.fit(text)\n",
    "\n",
    "# then, use `get_feature_names` to return the tokens\n",
    "print vectorizer.get_feature_names()\n",
    "\n",
    "# finally, call `transform` to convert text to a bag of words\n",
    "x = vectorizer.transform(text)"
   ]
  },
  {
   "cell_type": "code",
   "execution_count": 4,
   "metadata": {
    "collapsed": false
   },
   "outputs": [
    {
     "name": "stdout",
     "output_type": "stream",
     "text": [
      "Sparse Matrix\n",
      "  (0, 3)\t1\n",
      "  (0, 4)\t1\n",
      "  (0, 5)\t1\n",
      "  (0, 7)\t1\n",
      "  (0, 8)\t1\n",
      "  (1, 3)\t1\n",
      "  (1, 4)\t1\n",
      "  (1, 6)\t1\n",
      "  (1, 7)\t1\n",
      "  (1, 8)\t1\n",
      "  (1, 9)\t1\n",
      "  (1, 10)\t1\n",
      "  (2, 0)\t2\n",
      "  (2, 1)\t1\n",
      "  (2, 2)\t1\n",
      "  (2, 7)\t1\n",
      "<class 'scipy.sparse.csr.csr_matrix'>\n",
      "\n",
      "Matrix\n",
      "[[0 0 0 1 1 1 0 1 1 0 0]\n",
      " [0 0 0 1 1 0 1 1 1 1 1]\n",
      " [2 1 1 0 0 0 0 1 0 0 0]]\n"
     ]
    }
   ],
   "source": [
    "print 'Sparse Matrix'\n",
    "print x # A compressed version; the \"sparse\" matrix.\n",
    "print type(x) # type is from scipy, a library we've spoken very little of, but is pretty fantastic.\n",
    "print\n",
    "print 'Matrix'\n",
    "x_back = x.toarray()\n",
    "print x_back"
   ]
  },
  {
   "cell_type": "code",
   "execution_count": 5,
   "metadata": {
    "collapsed": false
   },
   "outputs": [
    {
     "data": {
      "text/html": [
       "<div style=\"max-height:1000px;max-width:1500px;overflow:auto;\">\n",
       "<table border=\"1\" class=\"dataframe\">\n",
       "  <thead>\n",
       "    <tr style=\"text-align: right;\">\n",
       "      <th></th>\n",
       "      <th>exciting</th>\n",
       "      <th>exciting exciting</th>\n",
       "      <th>exciting math</th>\n",
       "      <th>great</th>\n",
       "      <th>is</th>\n",
       "      <th>is great</th>\n",
       "      <th>is really</th>\n",
       "      <th>math</th>\n",
       "      <th>math is</th>\n",
       "      <th>really</th>\n",
       "      <th>really great</th>\n",
       "    </tr>\n",
       "  </thead>\n",
       "  <tbody>\n",
       "    <tr>\n",
       "      <th>0</th>\n",
       "      <td> 0</td>\n",
       "      <td> 0</td>\n",
       "      <td> 0</td>\n",
       "      <td> 1</td>\n",
       "      <td> 1</td>\n",
       "      <td> 1</td>\n",
       "      <td> 0</td>\n",
       "      <td> 1</td>\n",
       "      <td> 1</td>\n",
       "      <td> 0</td>\n",
       "      <td> 0</td>\n",
       "    </tr>\n",
       "    <tr>\n",
       "      <th>1</th>\n",
       "      <td> 0</td>\n",
       "      <td> 0</td>\n",
       "      <td> 0</td>\n",
       "      <td> 1</td>\n",
       "      <td> 1</td>\n",
       "      <td> 0</td>\n",
       "      <td> 1</td>\n",
       "      <td> 1</td>\n",
       "      <td> 1</td>\n",
       "      <td> 1</td>\n",
       "      <td> 1</td>\n",
       "    </tr>\n",
       "    <tr>\n",
       "      <th>2</th>\n",
       "      <td> 2</td>\n",
       "      <td> 1</td>\n",
       "      <td> 1</td>\n",
       "      <td> 0</td>\n",
       "      <td> 0</td>\n",
       "      <td> 0</td>\n",
       "      <td> 0</td>\n",
       "      <td> 1</td>\n",
       "      <td> 0</td>\n",
       "      <td> 0</td>\n",
       "      <td> 0</td>\n",
       "    </tr>\n",
       "  </tbody>\n",
       "</table>\n",
       "</div>"
      ],
      "text/plain": [
       "   exciting  exciting exciting  exciting math  great  is  is great  is really  math  math is  really  really great\n",
       "0         0                  0              0      1   1         1          0     1        1       0             0\n",
       "1         0                  0              0      1   1         0          1     1        1       1             1\n",
       "2         2                  1              1      0   0         0          0     1        0       0             0"
      ]
     },
     "execution_count": 5,
     "metadata": {},
     "output_type": "execute_result"
    }
   ],
   "source": [
    "pd.DataFrame(x_back, columns=vectorizer.get_feature_names()) #bring back to pandas\n",
    "#note it is case IN-sensitive"
   ]
  },
  {
   "cell_type": "code",
   "execution_count": 6,
   "metadata": {
    "collapsed": false
   },
   "outputs": [],
   "source": [
    "rotten_vectorizer = vectorizer.fit(critics.quote) #if you just want to know feature names\n",
    "x = vectorizer.fit_transform(critics.quote)\n",
    "\n",
    "y = (critics.fresh == 'fresh').values.astype(int)"
   ]
  },
  {
   "cell_type": "code",
   "execution_count": 7,
   "metadata": {
    "collapsed": false
   },
   "outputs": [
    {
     "name": "stdout",
     "output_type": "stream",
     "text": [
      "MultinomialNB(alpha=1.0, class_prior=None, fit_prior=True)\n",
      "Accuracy on training data: 0.99\n",
      "Accuracy on test data:     0.76\n",
      "BernoulliNB(alpha=1.0, binarize=0.0, class_prior=None, fit_prior=True)\n",
      "Accuracy on training data: 0.62\n",
      "Accuracy on test data:     0.59\n",
      "LogisticRegression(C=1.0, class_weight=None, dual=False, fit_intercept=True,\n",
      "          intercept_scaling=1, penalty='l2', random_state=None, tol=0.0001)\n",
      "Accuracy on training data: 1.00\n",
      "Accuracy on test data:     0.75\n"
     ]
    }
   ],
   "source": [
    "def train_and_measure(classifier, x, y, t_size):\n",
    "    from sklearn import cross_validation\n",
    "    \"\"\"\n",
    "    Function accepts a classifier from sklearn and computes the accuracy measure for a random train and test split.\n",
    "    classifier: an sklearn class\n",
    "    x         : a matrix of features\n",
    "    y         : a vector of targets\n",
    "    \"\"\"\n",
    "    xtrain, xtest, ytrain, ytest = cross_validation.train_test_split(x, y, test_size=t_size, random_state=1234)\n",
    "    clf = classifier.fit(xtrain, ytrain)\n",
    "    #Print the accuracy on the test and training dataset\n",
    "    training_accuracy = clf.score(xtrain, ytrain)\n",
    "    test_accuracy = clf.score(xtest, ytest)\n",
    "    print classifier\n",
    "    print \"Accuracy on training data: %0.2f\" % (training_accuracy)\n",
    "    print \"Accuracy on test data:     %0.2f\" % (test_accuracy)\n",
    "    \n",
    "train_and_measure(naive_bayes.MultinomialNB(), x, y, 0.2)\n",
    "\n",
    "x_ones = (x > 1) # recall that a bernoulli interpretation will only work with 1s and 0s, or binary data.\n",
    "train_and_measure(naive_bayes.BernoulliNB(), x_ones, y, 0.2)\n",
    "\n",
    "# and for the heck of it:\n",
    "\n",
    "from sklearn import linear_model\n",
    "train_and_measure(linear_model.LogisticRegression(), x, y, 0.2)"
   ]
  },
  {
   "cell_type": "code",
   "execution_count": 8,
   "metadata": {
    "collapsed": false
   },
   "outputs": [
    {
     "name": "stdout",
     "output_type": "stream",
     "text": [
      "MultinomialNB(alpha=1.0, class_prior=None, fit_prior=True)\n",
      "Accuracy on training data: 0.99\n",
      "Accuracy on test data:     0.76\n",
      "BernoulliNB(alpha=1.0, binarize=0.0, class_prior=None, fit_prior=True)\n",
      "Accuracy on training data: 0.62\n",
      "Accuracy on test data:     0.60\n",
      "LogisticRegression(C=1.0, class_weight=None, dual=False, fit_intercept=True,\n",
      "          intercept_scaling=1, penalty='l2', random_state=None, tol=0.0001)\n",
      "Accuracy on training data: 1.00\n",
      "Accuracy on test data:     0.75\n"
     ]
    }
   ],
   "source": [
    "train_and_measure(naive_bayes.MultinomialNB(), x, y, 0.33)\n",
    "\n",
    "x_ones = (x > 1) # recall that a bernoulli interpretation will only work with 1s and 0s, or binary data.\n",
    "train_and_measure(naive_bayes.BernoulliNB(), x_ones, y, 0.33)\n",
    "\n",
    "\n",
    "# and for the heck of it:\n",
    "\n",
    "from sklearn import linear_model\n",
    "train_and_measure(linear_model.LogisticRegression(), x, y, 0.33)"
   ]
  },
  {
   "cell_type": "markdown",
   "metadata": {},
   "source": [
    "#Your Turn: Writing a function that returns back the average and standard deviation of a k-fold cross validation\n",
    "\n",
    "We want a function that should do a very similar process as above, but now, to use k fold cross validation, and to return back two values: the mean and standard deviation accuracy from the k-fold train and test.\n",
    "\n",
    "Helper code below, use as you need. Steps to take:\n",
    "\n",
    "1. What are the arguments required in the function? What should be customizable?\n",
    "2. What code should never change?\n",
    "3. What should the return look like?\n",
    "\n",
    "After: Evaluate which model seems to do it's best on the set."
   ]
  },
  {
   "cell_type": "code",
   "execution_count": 9,
   "metadata": {
    "collapsed": false
   },
   "outputs": [
    {
     "name": "stdout",
     "output_type": "stream",
     "text": [
      "Mean               : 0.782122\n",
      "Standard Deviation : 0.010265\n",
      "------------------------------\n",
      "Mean               : 0.669345\n",
      "Standard Deviation : 0.012221\n",
      "------------------------------\n",
      "Mean               : 0.775300\n",
      "Standard Deviation : 0.011402\n",
      "------------------------------\n"
     ]
    },
    {
     "data": {
      "image/png": "[encoded data removed]",
      "text/plain": [
       "<matplotlib.figure.Figure at 0x109ad5b50>"
      ]
     },
     "metadata": {},
     "output_type": "display_data"
    },
    {
     "data": {
      "image/png": "[encoded data removed]",
      "text/plain": [
       "<matplotlib.figure.Figure at 0x10ac24a50>"
      ]
     },
     "metadata": {},
     "output_type": "display_data"
    },
    {
     "data": {
      "image/png": "[encoded data removed]",
      "text/plain": [
       "<matplotlib.figure.Figure at 0x10ae32590>"
      ]
     },
     "metadata": {},
     "output_type": "display_data"
    }
   ],
   "source": [
    "def kfold_xvalid(classifier, x, y, shuffle_on, folds, return_plt=False):\n",
    "    \"\"\"\n",
    "    Function accepts a classifier from sklearn and computes the accuracy measure for a kfold cross validation.\n",
    "    classifier: an sklearn class\n",
    "    x         : a matrix of features\n",
    "    y         : a vector of targets\n",
    "    folds     : number of folds\n",
    "    \"\"\"\n",
    "    import numpy as np\n",
    "    from sklearn import cross_validation\n",
    "    kfold = cross_validation.KFold(n=x.shape[0], n_folds=folds, shuffle=shuffle_on, random_state=1234)\n",
    "    train_acc = []\n",
    "    test_acc = []\n",
    "    for train_index, test_index in kfold:\n",
    "        clf = classifier.fit(x[train_index], y[train_index])\n",
    "        train_acc.append(clf.score(x[train_index], y[train_index]))\n",
    "        test_acc.append(clf.score(x[test_index], y[test_index]))\n",
    "    \n",
    "    print 'Mean               : %f' % (np.array(test_acc).mean())\n",
    "    print 'Standard Deviation : %f' % (np.array(test_acc).std())\n",
    "    print '-'*30\n",
    "    if return_plt:\n",
    "        plt.figure()\n",
    "        sns.kdeplot(np.random.normal(loc=np.array(test_acc).mean(), scale=np.array(test_acc).std(), size=10000), shade=True)\n",
    "    \n",
    "kfold_xvalid(naive_bayes.MultinomialNB(), x, y, True, 5, True)\n",
    "\n",
    "x_ones = (x > 1)\n",
    "kfold_xvalid(naive_bayes.BernoulliNB(), x, y, True, 5, True)\n",
    "\n",
    "kfold_xvalid(linear_model.LogisticRegression(), x, y, True, 5, True)"
   ]
  },
  {
   "cell_type": "code",
   "execution_count": 10,
   "metadata": {
    "collapsed": false
   },
   "outputs": [
    {
     "name": "stdout",
     "output_type": "stream",
     "text": [
      "Mean               : 0.779775\n",
      "Standard Deviation : 0.011775\n",
      "------------------------------\n",
      "Mean               : 0.680713\n",
      "Standard Deviation : 0.010998\n",
      "------------------------------\n",
      "Mean               : 0.778709\n",
      "Standard Deviation : 0.013450\n",
      "------------------------------\n"
     ]
    },
    {
     "data": {
      "image/png": "[encoded data removed]",
      "text/plain": [
       "<matplotlib.figure.Figure at 0x10a264850>"
      ]
     },
     "metadata": {},
     "output_type": "display_data"
    },
    {
     "data": {
      "image/png": "[encoded data removed]",
      "text/plain": [
       "<matplotlib.figure.Figure at 0x10a264790>"
      ]
     },
     "metadata": {},
     "output_type": "display_data"
    },
    {
     "data": {
      "image/png": "[encoded data removed]",
      "text/plain": [
       "<matplotlib.figure.Figure at 0x110326f90>"
      ]
     },
     "metadata": {},
     "output_type": "display_data"
    }
   ],
   "source": [
    "kfold_xvalid(naive_bayes.MultinomialNB(), x, y, True, 8, True)\n",
    "\n",
    "x_ones = (x > 1)\n",
    "kfold_xvalid(naive_bayes.BernoulliNB(), x, y, True, 8, True)\n",
    "\n",
    "kfold_xvalid(linear_model.LogisticRegression(), x, y, True, 8, True)"
   ]
  },
  {
   "cell_type": "code",
   "execution_count": 11,
   "metadata": {
    "collapsed": false
   },
   "outputs": [
    {
     "name": "stdout",
     "output_type": "stream",
     "text": [
      "Fit Chart\n"
     ]
    },
    {
     "data": {
      "image/png": "[encoded data removed]",
      "text/plain": [
       "<matplotlib.figure.Figure at 0x10a8c5390>"
      ]
     },
     "metadata": {},
     "output_type": "display_data"
    }
   ],
   "source": [
    "def find_k(classifier, x, y, max_num_k):\n",
    "    import numpy as np\n",
    "    from sklearn import cross_validation\n",
    "    k_train_acc = []\n",
    "    k_test_acc = []\n",
    "    for i in range(2, max_num_k):\n",
    "        kfold = cross_validation.KFold(n=x.shape[0], n_folds=i, shuffle=True, random_state=1234)\n",
    "        test_acc, train_acc = [], []\n",
    "        for train_index, test_index in kfold:\n",
    "            clf = classifier.fit(x[train_index], y[train_index])\n",
    "            train_acc.append(clf.score(x[train_index], y[train_index]))\n",
    "            test_acc.append(clf.score(x[test_index], y[test_index]))\n",
    "        k_train_acc.append(np.array(train_acc).mean())\n",
    "        k_test_acc.append(np.array(test_acc).mean())\n",
    "\n",
    "    print 'Fit Chart'\n",
    "    plt.figure()\n",
    "    plt.plot(range(2, max_num_k), k_train_acc)\n",
    "    plt.plot(range(2, max_num_k), k_test_acc)\n",
    "\n",
    "find_k(naive_bayes.BernoulliNB(), x, y, 20)"
   ]
  },
  {
   "cell_type": "code",
   "execution_count": 16,
   "metadata": {
    "collapsed": false
   },
   "outputs": [
    {
     "name": "stdout",
     "output_type": "stream",
     "text": [
      " The Matrix:\n",
      "[[5241  218]\n",
      " [ 114 8499]]\n",
      "\n",
      "Overall Score     : 0.976407\n",
      "Predicting Rotten : 0.960066\n",
      "Predicting Fresh  : 0.986764\n"
     ]
    }
   ],
   "source": [
    "from sklearn import cross_validation\n",
    "from sklearn.metrics import confusion_matrix\n",
    "from __future__ import division\n",
    "\n",
    "y_true = y\n",
    "\n",
    "kf = cross_validation.KFold(n=x.shape[0], n_folds=15, shuffle=True, random_state=1234)\n",
    "for train_index, test_index in kf:\n",
    "    clf = naive_bayes.MultinomialNB().fit(x[train_index], y[train_index])\n",
    "\n",
    "y_pred = clf.predict(x)\n",
    "'''\n",
    "Note! the confusion matrix here will be [0 1],\n",
    "not [1, 0] as in the above image.\n",
    "'''\n",
    "conf = confusion_matrix(y_true, y_pred)\n",
    "\n",
    "print ' The Matrix:'\n",
    "print conf\n",
    "\n",
    "print\n",
    "print 'Overall Score     : %f' % (clf.score(x, y))\n",
    "print 'Predicting Rotten : %f' % (conf[0, 0] / (conf[0, 0] + conf[0, 1]))\n",
    "print 'Predicting Fresh  : %f' % (conf[1, 1] / (conf[1, 0] + conf[1, 1]))"
   ]
  },
  {
   "cell_type": "code",
   "execution_count": 18,
   "metadata": {
    "collapsed": false
   },
   "outputs": [
    {
     "name": "stdout",
     "output_type": "stream",
     "text": [
      "Mis-predicted Rotten quotes\n",
      "---------------------------\n",
      "The Ref is one of those rare movies that seem to have everything going for it -- a promising director, terrific actors and an original, unapologetically grown-up script -- yet somehow still turns out to be a phenomenal drag.\n",
      "\n",
      "The performances are precise, the language is alive and well spoken and the setting is striking, but Vanya on 42nd Street still suffers rather heavily from the limitations of filmed theater.\n",
      "\n",
      "A complicated film that never really successfully yokes together the themes of money-making and sexuality, it reveals both Kazan's operatic sensibility and his inability to follow an argument rigorously through.\n",
      "\n",
      "Cast of newcomers is appealing, but this small-town melodrama is so old-fashioned and out-of-touch with contemporary youth that it feels as if it were made the same time that its story is set, in 1957.\n",
      "\n",
      "At three hours, Jackson's Kong is too bloated and digressive to match the pure adrenaline of the first film, perhaps the finest B-movie ever made.\n",
      "\n",
      "Mis-predicted Fresh quotes\n",
      "--------------------------\n",
      "Isn't so much a movie as an overly long pilot episode of some new \"Must See TV'' sitcom.\n",
      "\n",
      "[Stone] seems to be trying to enter a more passionate movie, where a neurotic gold digger could at least have a good time. By the end of Casino, for all its craftsmanly bravura, you may want to join her.\n",
      "\n",
      "Next Friday is an extremely funny movie, and this is coming from someone who barely cracked a smile during Friday, the first installment of this franchise.\n",
      "\n",
      "The repetitive plot is essentially a string of excuses for fantastical combat sequences, but somehow several characters' insistence that violence is bad doesn't come off as hypocritical.\n",
      "\n",
      "Weighed down by a dull setup featuring Ralph 'Karate Kid' Macchio, the movie gets a much-needed charge from Pesci, a bundle of bandy-legged impudence as Macchio's lawyer cousin, Vincent Gambini.\n",
      "\n"
     ]
    }
   ],
   "source": [
    "# Review errors\n",
    "import numpy as np\n",
    "prob = clf.predict_proba(x)[:, 0]\n",
    "bad_rotten = np.argsort(prob[y == 0])[:5]\n",
    "bad_fresh = np.argsort(prob[y == 1])[-5:]\n",
    "\n",
    "print \"Mis-predicted Rotten quotes\"\n",
    "print '---------------------------'\n",
    "for row in bad_rotten:\n",
    "    print critics[y == 0].quote.irow(row)\n",
    "    print\n",
    "\n",
    "print \"Mis-predicted Fresh quotes\"\n",
    "print '--------------------------'\n",
    "for row in bad_fresh:\n",
    "    print critics[y == 1].quote.irow(row)\n",
    "    print"
   ]
  },
  {
   "cell_type": "code",
   "execution_count": 19,
   "metadata": {
    "collapsed": false
   },
   "outputs": [
    {
     "data": {
      "text/html": [
       "<div style=\"max-height:1000px;max-width:1500px;overflow:auto;\">\n",
       "<table border=\"1\" class=\"dataframe\">\n",
       "  <thead>\n",
       "    <tr style=\"text-align: right;\">\n",
       "      <th></th>\n",
       "      <th>critic</th>\n",
       "      <th>fresh</th>\n",
       "      <th>imdb</th>\n",
       "      <th>publication</th>\n",
       "      <th>quote</th>\n",
       "      <th>review_date</th>\n",
       "      <th>rtid</th>\n",
       "      <th>title</th>\n",
       "    </tr>\n",
       "  </thead>\n",
       "  <tbody>\n",
       "    <tr>\n",
       "      <th>7658</th>\n",
       "      <td> Mick LaSalle</td>\n",
       "      <td> rotten</td>\n",
       "      <td> 386117</td>\n",
       "      <td> San Francisco Chronicle</td>\n",
       "      <td> Where the Wild Things Are is audacious in its ...</td>\n",
       "      <td> 2009-10-16</td>\n",
       "      <td> 770671948</td>\n",
       "      <td> Where the Wild Things Are</td>\n",
       "    </tr>\n",
       "  </tbody>\n",
       "</table>\n",
       "</div>"
      ],
      "text/plain": [
       "            critic   fresh    imdb              publication                                              quote review_date       rtid                      title\n",
       "7658  Mick LaSalle  rotten  386117  San Francisco Chronicle  Where the Wild Things Are is audacious in its ...  2009-10-16  770671948  Where the Wild Things Are"
      ]
     },
     "execution_count": 19,
     "metadata": {},
     "output_type": "execute_result"
    }
   ],
   "source": [
    "critics[critics['quote'].str.contains(\"audacious in its\")]"
   ]
  },
  {
   "cell_type": "code",
   "execution_count": 20,
   "metadata": {
    "collapsed": false
   },
   "outputs": [
    {
     "data": {
      "text/html": [
       "<div style=\"max-height:1000px;max-width:1500px;overflow:auto;\">\n",
       "<table border=\"1\" class=\"dataframe\">\n",
       "  <thead>\n",
       "    <tr style=\"text-align: right;\">\n",
       "      <th></th>\n",
       "      <th>critic</th>\n",
       "      <th>fresh</th>\n",
       "      <th>imdb</th>\n",
       "      <th>publication</th>\n",
       "      <th>quote</th>\n",
       "      <th>review_date</th>\n",
       "      <th>rtid</th>\n",
       "      <th>title</th>\n",
       "    </tr>\n",
       "  </thead>\n",
       "  <tbody>\n",
       "    <tr>\n",
       "      <th>5965</th>\n",
       "      <td> Mike Clark</td>\n",
       "      <td> fresh</td>\n",
       "      <td> 115710</td>\n",
       "      <td> USA Today</td>\n",
       "      <td> The movie's own payoff is compelling enough, b...</td>\n",
       "      <td> 2000-01-01</td>\n",
       "      <td> 364525542</td>\n",
       "      <td> Blood and Wine</td>\n",
       "    </tr>\n",
       "  </tbody>\n",
       "</table>\n",
       "</div>"
      ],
      "text/plain": [
       "          critic  fresh    imdb publication                                              quote review_date       rtid           title\n",
       "5965  Mike Clark  fresh  115710   USA Today  The movie's own payoff is compelling enough, b...  2000-01-01  364525542  Blood and Wine"
      ]
     },
     "execution_count": 20,
     "metadata": {},
     "output_type": "execute_result"
    }
   ],
   "source": [
    "critics[critics['quote'].str.contains(\"own payoff is\")]"
   ]
  },
  {
   "cell_type": "markdown",
   "metadata": {},
   "source": [
    "#My Turn\n",
    "Given the text and classifier above, there is still plenty we can do to work through data cleanup and improve the model.\n",
    "\n",
    "* Consider feature selection here: we haven't dropped a single feature! How could we evaluate this process? (check out f_classif)\n",
    "* Last class we experimented with nltk and the part of speach tagger. Consider replacing words with parts of speach instead (using the default tagger), or other text processing tools (remove the stopwords... or just keep the stopwords!)\n",
    "* What else is in the quote that we could identify and replace more easily?\n",
    "\n",
    "This is an assignment that is due on Monday. Give it a shot!"
   ]
  },
  {
   "cell_type": "code",
   "execution_count": 28,
   "metadata": {
    "collapsed": false
   },
   "outputs": [],
   "source": [
    "from sklearn import feature_selection as f_select\n",
    "import nltk\n",
    "import string\n",
    "import re\n",
    "\n",
    "def no_stop(quote):\n",
    "    quote = quote.lower()\n",
    "    quote = quote.translate(string.maketrans(\"\",\"\"), string.punctuation)\n",
    "    words = nltk.tokenize.wordpunct_tokenize(quote)\n",
    "    stopwords_filter = set(nltk.corpus.stopwords.words('english'))\n",
    "    return ' '.join([word for word in words if word not in stopwords_filter])\n",
    "\n",
    "def only_stop(quote):\n",
    "    quote = quote.lower()\n",
    "    quote = quote.translate(string.maketrans(\"\",\"\"), string.punctuation)\n",
    "    words = nltk.tokenize.wordpunct_tokenize(quote)\n",
    "    stopwords_filter = set(nltk.corpus.stopwords.words('english'))\n",
    "    return ' '.join([word for word in words if word in stopwords_filter])\n",
    "\n",
    "def sig_features(x, y, threshold=0.05):\n",
    "   \"\"\"Given a column list, a feature set, a target, and a p value threshold, return all columns that show low p-values.\n",
    "   x         : dataframe containing the feature set\n",
    "   y         : target values for the model\n",
    "   threshold : default is 0.5, threshold p value that each feature must fall below\n",
    "   \"\"\"\n",
    "   significant_features = []\n",
    "   x_back = x.toarray() \n",
    "   for feature in x_back.T:\n",
    "       pval = f_select.f_classif(feature,y)\n",
    "       if pval[1][0] < threshold:\n",
    "           significant_features.append(feature)\n",
    "   print '%d Features are Siginificant of %d Total. (Assumes a threshold of %f.)' %(len(significant_features), len(x_back.T), threshold) \n",
    "   return significant_features"
   ]
  },
  {
   "cell_type": "code",
   "execution_count": 24,
   "metadata": {
    "collapsed": false
   },
   "outputs": [
    {
     "ename": "NameError",
     "evalue": "global name 'significan_features' is not defined",
     "output_type": "error",
     "traceback": [
      "\u001b[0;31m---------------------------------------------------------------------------\u001b[0m\n\u001b[0;31mNameError\u001b[0m                                 Traceback (most recent call last)",
      "\u001b[0;32m<ipython-input-24-5e6620b1f1c7>\u001b[0m in \u001b[0;36m<module>\u001b[0;34m()\u001b[0m\n\u001b[0;32m----> 1\u001b[0;31m \u001b[0msig_features\u001b[0m\u001b[0;34m(\u001b[0m\u001b[0mx\u001b[0m\u001b[0;34m,\u001b[0m \u001b[0my\u001b[0m\u001b[0;34m)\u001b[0m\u001b[0;34m\u001b[0m\u001b[0m\n\u001b[0m",
      "\u001b[0;32m<ipython-input-22-b82a2e8251f8>\u001b[0m in \u001b[0;36msig_features\u001b[0;34m(x, y, threshold)\u001b[0m\n\u001b[1;32m     27\u001b[0m        \u001b[0;32mif\u001b[0m \u001b[0mpval\u001b[0m\u001b[0;34m[\u001b[0m\u001b[0;36m1\u001b[0m\u001b[0;34m]\u001b[0m\u001b[0;34m[\u001b[0m\u001b[0;36m0\u001b[0m\u001b[0;34m]\u001b[0m \u001b[0;34m<\u001b[0m \u001b[0mthreshold\u001b[0m\u001b[0;34m:\u001b[0m\u001b[0;34m\u001b[0m\u001b[0m\n\u001b[1;32m     28\u001b[0m            \u001b[0msignificant_features\u001b[0m\u001b[0;34m.\u001b[0m\u001b[0mappend\u001b[0m\u001b[0;34m(\u001b[0m\u001b[0mfeature\u001b[0m\u001b[0;34m)\u001b[0m\u001b[0;34m\u001b[0m\u001b[0m\n\u001b[0;32m---> 29\u001b[0;31m    \u001b[0;32mprint\u001b[0m \u001b[0;34m'%d Features are Siginificant of %d Total. (Assumes a threshold of %f.)'\u001b[0m \u001b[0;34m%\u001b[0m\u001b[0;34m(\u001b[0m\u001b[0mlen\u001b[0m\u001b[0;34m(\u001b[0m\u001b[0msignifican_features\u001b[0m\u001b[0;34m)\u001b[0m\u001b[0;34m,\u001b[0m \u001b[0mlen\u001b[0m\u001b[0;34m(\u001b[0m\u001b[0mx_back\u001b[0m\u001b[0;34m.\u001b[0m\u001b[0mT\u001b[0m\u001b[0;34m)\u001b[0m\u001b[0;34m,\u001b[0m \u001b[0mthreshold\u001b[0m\u001b[0;34m)\u001b[0m\u001b[0;34m\u001b[0m\u001b[0m\n\u001b[0m\u001b[1;32m     30\u001b[0m    \u001b[0;32mreturn\u001b[0m \u001b[0msignificant_features\u001b[0m\u001b[0;34m\u001b[0m\u001b[0m\n",
      "\u001b[0;31mNameError\u001b[0m: global name 'significan_features' is not defined"
     ]
    }
   ],
   "source": [
    "sig_features(x, y)"
   ]
  },
  {
   "cell_type": "code",
   "execution_count": 29,
   "metadata": {
    "collapsed": false
   },
   "outputs": [],
   "source": [
    "vectorizer = CountVectorizer()\n",
    "\n",
    "critics['quote_no_stop'] = critics.quote.apply(no_stop)\n",
    "x_nostop = vectorizer.fit_transform(critics.quote_no_stop)\n",
    "xns_ones = (x_nostop > 1)\n",
    "\n",
    "critics['quote_only_stop'] = critics.quote.apply(only_stop)\n",
    "x_only_stop = vectorizer.fit_transform(critics.quote_only_stop)\n",
    "xos_ones = (x_only_stop > 1)"
   ]
  },
  {
   "cell_type": "code",
   "execution_count": 33,
   "metadata": {
    "collapsed": false
   },
   "outputs": [
    {
     "name": "stdout",
     "output_type": "stream",
     "text": [
      "______________________________________________________________________\n",
      "Multinomial Stop Words Only\n",
      "MultinomialNB(alpha=1.0, class_prior=None, fit_prior=True)\n",
      "Accuracy on training data: 0.65\n",
      "Accuracy on test data:     0.63\n",
      "______________________________________________________________________\n",
      "Multinonial No Stop Words\n",
      "MultinomialNB(alpha=1.0, class_prior=None, fit_prior=True)\n",
      "Accuracy on training data: 0.93\n",
      "Accuracy on test data:     0.77\n",
      "______________________________________________________________________\n",
      "Bernoulli Stop Words Only\n",
      "BernoulliNB(alpha=1.0, binarize=0.0, class_prior=None, fit_prior=True)\n",
      "Accuracy on training data: 0.62\n",
      "Accuracy on test data:     0.60\n",
      "______________________________________________________________________\n",
      "Bernoulli No Stop Words\n",
      "BernoulliNB(alpha=1.0, binarize=0.0, class_prior=None, fit_prior=True)\n",
      "Accuracy on training data: 0.62\n",
      "Accuracy on test data:     0.60\n"
     ]
    }
   ],
   "source": [
    "line = '_'*70\n",
    "print line\n",
    "print 'Multinomial Stop Words Only'\n",
    "train_and_measure(naive_bayes.MultinomialNB(), x_only_stop, y, 0.33)\n",
    "print line\n",
    "print 'Multinonial No Stop Words'\n",
    "train_and_measure(naive_bayes.MultinomialNB(), x_nostop, y, 0.33)\n",
    "print line\n",
    "print 'Bernoulli Stop Words Only'\n",
    "train_and_measure(naive_bayes.BernoulliNB(), xos_ones, y, 0.33)\n",
    "print line\n",
    "print 'Bernoulli No Stop Words'\n",
    "train_and_measure(naive_bayes.BernoulliNB(), xns_ones, y, 0.33)"
   ]
  },
  {
   "cell_type": "code",
   "execution_count": null,
   "metadata": {
    "collapsed": false
   },
   "outputs": [],
   "source": []
  }
 ],
 "metadata": {
  "kernelspec": {
   "display_name": "Python 2",
   "language": "python",
   "name": "python2"
  },
  "language_info": {
   "codemirror_mode": {
    "name": "ipython",
    "version": 2
   },
   "file_extension": ".py",
   "mimetype": "text/x-python",
   "name": "python",
   "nbconvert_exporter": "python",
   "pygments_lexer": "ipython2",
   "version": "2.7.10"
  }
 },
 "nbformat": 4,
 "nbformat_minor": 0
}
