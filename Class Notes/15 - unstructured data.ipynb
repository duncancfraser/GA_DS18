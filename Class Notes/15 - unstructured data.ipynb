{
 "cells": [
  {
   "cell_type": "markdown",
   "metadata": {},
   "source": [
    "#Unstructured Data and MapReduce\n",
    "###April 1, 2015"
   ]
  },
  {
   "cell_type": "code",
   "execution_count": 2,
   "metadata": {
    "collapsed": false
   },
   "outputs": [
    {
     "name": "stdout",
     "output_type": "stream",
     "text": [
      "['2015-03-22', '16:36:13,475', '-', 'file', '-', 'DEBUG', '-', 'Debug', 'FILE']\n",
      "['2015-03-22', '16:36:13,477', '-', 'werkzeug', '-', 'INFO', '-', '*', 'Running', 'on', 'http://0.0.0.0:5000/']\n"
     ]
    }
   ],
   "source": [
    "rows = [\n",
    "    \"\"\"2015-03-22 16:36:13,475 - file - DEBUG - Debug FILE\"\"\",\n",
    "    \"\"\"2015-03-22 16:36:13,477 - werkzeug - INFO -  * Running on http://0.0.0.0:5000/\"\"\",\n",
    "]\n",
    "for row in rows:\n",
    "    print row.split()"
   ]
  },
  {
   "cell_type": "code",
   "execution_count": 3,
   "metadata": {
    "collapsed": false
   },
   "outputs": [
    {
     "name": "stdout",
     "output_type": "stream",
     "text": [
      "['2015', '03', '22 16:36:13,475 ', ' file ', ' DEBUG ', ' Debug FILE']\n",
      "['2015', '03', '22 16:36:13,477 ', ' werkzeug ', ' INFO ', '  * Running on http://0.0.0.0:5000/']\n"
     ]
    }
   ],
   "source": [
    "for row in rows:\n",
    "    print row.split('-')"
   ]
  },
  {
   "cell_type": "code",
   "execution_count": 4,
   "metadata": {
    "collapsed": false
   },
   "outputs": [
    {
     "name": "stdout",
     "output_type": "stream",
     "text": [
      "['2015-03-22 16:36:13,475', 'file', 'DEBUG', 'Debug FILE']\n",
      "['2015-03-22 16:36:13,477', 'werkzeug', 'INFO', ' * Running on http://0.0.0.0:5000/']\n"
     ]
    }
   ],
   "source": [
    "for row in rows:\n",
    "    print row.split(' - ')"
   ]
  },
  {
   "cell_type": "code",
   "execution_count": 6,
   "metadata": {
    "collapsed": false
   },
   "outputs": [
    {
     "name": "stdout",
     "output_type": "stream",
     "text": [
      "2015-04-01 19:13:31.069156 - file - DEBUG - Debug FILE\n"
     ]
    }
   ],
   "source": [
    "import datetime\n",
    "def log_format(dt, source, level, desc):\n",
    "    # this other form would also work, and be simpler:\n",
    "    #return ' - '.join([str(dt), source, level, desc])\n",
    "    return \"%s - %s - %s - %s\" % (dt, source, level, desc,)\n",
    "\n",
    "print log_format(datetime.datetime.now(), 'file', 'DEBUG', 'Debug FILE')"
   ]
  },
  {
   "cell_type": "code",
   "execution_count": 10,
   "metadata": {
    "collapsed": false
   },
   "outputs": [
    {
     "name": "stdout",
     "output_type": "stream",
     "text": [
      "2015-03-22 16:36:13,475\n",
      "Debug FILE\n",
      "{'date': '2015-03-22 16:36:13,475', 'source': 'file', 'level': 'DEBUG', 'desc': 'Debug FILE'}\n",
      "--------------------\n",
      "ROW #1\n",
      "2015-03-22 16:36:13,477\n",
      " * Running on http://0.0.0.0:5000/\n",
      "{'date': '2015-03-22 16:36:13,477', 'source': 'werkzeug', 'level': 'INFO', 'desc': ' * Running on http://0.0.0.0:5000/'}\n"
     ]
    }
   ],
   "source": [
    "import re\n",
    "# regex compile allows us to name fields and parse logs in more flexible way.\n",
    "# format: (?P<field_name>regex)\n",
    "regex = r'(?P<date>\\d{4}-\\d{2}-\\d{2}\\s\\d{2}:\\d{2}:\\d{2},\\d+) - (?P<source>\\w+) - (?P<level>\\w+) - (?P<desc>[\\w\\W]+)'\n",
    "log_parser = re.compile(regex)\n",
    "m = log_parser.search(rows[0]) ##Can test, if the search does not run, it's not parsing\n",
    "print m.group('date')\n",
    "print m.group('desc')\n",
    "print m.groupdict()\n",
    "m = log_parser.search(rows[1]) ##Can test, if the search does not run, it's not parsing\n",
    "print '-' * 20\n",
    "print 'ROW #1'\n",
    "print m.group('date')\n",
    "print m.group('desc')\n",
    "print m.groupdict()"
   ]
  },
  {
   "cell_type": "markdown",
   "metadata": {},
   "source": [
    "1. Should identify the program ran [cat, sed, sort] and arguments [error.log, -n '/etc/'] passed at each pipe (|)\n",
    "    * cat error.log | sed -n '/access denied/p' | sort\n",
    "2. Should identify AJAX call [POST], filename [congruence1.jpg], status call [200]\n",
    "    * POST /static/img/congruence1.jpg HTTP/1.1 200\n",
    "    * POST /static/img/team/arnold.png HTTP/1.1 404\n",
    "3. Should identify gametime [+20 2nd period, +40 3rd period], team [WPG, NYR], who was penalized [Jiri Tlsusty], the penelty [slashing], penalty against [Carl Hagelin].\n",
    "    * 1ST PERIOD\n",
    "        * 05:20   WPG Jiri Tlusty  Slashing against  Carl Hagelin\n",
    "        * 14:25   NYR Mats Zuccarello  Tripping against  Jim Slater\n",
    "    * 2ND PERIOD\n",
    "        * 09:31   WPG Mathieu Perreault  Interference against  Dominic Moore\n",
    "        * 13:31   NYR Rick Nash  Hooking against  Jacob Trouba\n",
    "    * 3RD PERIOD\n",
    "        * 19:21   WPG Dustin Byfuglien  Slashing against  Mats Zuccarello"
   ]
  },
  {
   "cell_type": "code",
   "execution_count": 26,
   "metadata": {
    "collapsed": false
   },
   "outputs": [],
   "source": [
    "bash_ex = \"\"\"cat error.log | sed -n '/access denied/p' | sort\"\"\"\n",
    "delim_bash = bash_ex.split(' | ')"
   ]
  },
  {
   "cell_type": "code",
   "execution_count": 46,
   "metadata": {
    "collapsed": false
   },
   "outputs": [
    {
     "name": "stdout",
     "output_type": "stream",
     "text": [
      "cat\n",
      "error.log\n",
      "{'program': 'cat', 'arguments': 'error.log'}\n",
      "access\n",
      "denied/p\n",
      "{'program': 'access', 'arguments': 'denied/p'}\n"
     ]
    },
    {
     "ename": "AttributeError",
     "evalue": "'NoneType' object has no attribute 'group'",
     "output_type": "error",
     "traceback": [
      "\u001b[0;31m---------------------------------------------------------------------------\u001b[0m",
      "\u001b[0;31mAttributeError\u001b[0m                            Traceback (most recent call last)",
      "\u001b[0;32m<ipython-input-46-2ae7227af8c6>\u001b[0m in \u001b[0;36m<module>\u001b[0;34m()\u001b[0m\n\u001b[1;32m      4\u001b[0m \u001b[0;32mfor\u001b[0m \u001b[0mi\u001b[0m \u001b[0;32min\u001b[0m \u001b[0mrange\u001b[0m\u001b[0;34m(\u001b[0m\u001b[0mlen\u001b[0m\u001b[0;34m(\u001b[0m\u001b[0mdelim_bash\u001b[0m\u001b[0;34m)\u001b[0m\u001b[0;34m)\u001b[0m\u001b[0;34m:\u001b[0m\u001b[0;34m\u001b[0m\u001b[0m\n\u001b[1;32m      5\u001b[0m     \u001b[0mm\u001b[0m \u001b[0;34m=\u001b[0m \u001b[0mlog_parser\u001b[0m\u001b[0;34m.\u001b[0m\u001b[0msearch\u001b[0m\u001b[0;34m(\u001b[0m\u001b[0mdelim_bash\u001b[0m\u001b[0;34m[\u001b[0m\u001b[0mi\u001b[0m\u001b[0;34m]\u001b[0m\u001b[0;34m)\u001b[0m \u001b[0;31m##Can test, if the search does not run, it's not parsing\u001b[0m\u001b[0;34m\u001b[0m\u001b[0m\n\u001b[0;32m----> 6\u001b[0;31m     \u001b[0;32mprint\u001b[0m \u001b[0mm\u001b[0m\u001b[0;34m.\u001b[0m\u001b[0mgroup\u001b[0m\u001b[0;34m(\u001b[0m\u001b[0;34m'program'\u001b[0m\u001b[0;34m)\u001b[0m\u001b[0;34m\u001b[0m\u001b[0m\n\u001b[0m\u001b[1;32m      7\u001b[0m     \u001b[0;32mprint\u001b[0m \u001b[0mm\u001b[0m\u001b[0;34m.\u001b[0m\u001b[0mgroup\u001b[0m\u001b[0;34m(\u001b[0m\u001b[0;34m'arguments'\u001b[0m\u001b[0;34m)\u001b[0m\u001b[0;34m\u001b[0m\u001b[0m\n\u001b[1;32m      8\u001b[0m     \u001b[0;32mprint\u001b[0m \u001b[0mm\u001b[0m\u001b[0;34m.\u001b[0m\u001b[0mgroupdict\u001b[0m\u001b[0;34m(\u001b[0m\u001b[0;34m)\u001b[0m\u001b[0;34m\u001b[0m\u001b[0m\n",
      "\u001b[0;31mAttributeError\u001b[0m: 'NoneType' object has no attribute 'group'"
     ]
    }
   ],
   "source": [
    "regex = r'(?P<program>\\w+) (?P<arguments>\\w+\\W+\\w+)'\n",
    "log_parser = re.compile(regex)\n",
    "\n",
    "for i in range(len(delim_bash)):\n",
    "m = log_parser.search(delim_bash[i]) ##Can test, if the search does not run, it's not parsing\n",
    "print m.group('program')\n",
    "print m.group('arguments')\n",
    "print m.groupdict()"
   ]
  },
  {
   "cell_type": "code",
   "execution_count": 50,
   "metadata": {
    "collapsed": false
   },
   "outputs": [
    {
     "name": "stdout",
     "output_type": "stream",
     "text": [
      "{'program': 'cat', 'arg': 'error.log'}\n",
      "{'program': 'sed', 'arg': \"-n '/access denied/p'\"}\n",
      "{'program': 'sort', 'arg': None}\n"
     ]
    }
   ],
   "source": [
    "splitter = re.compile(\"(?P<program>\\w+)(?:\\s+(?P<arg>\\S.*))?\")\n",
    "\n",
    "for cmd in delim_bash:\n",
    "    m = splitter.search(cmd.strip())\n",
    "    if m:\n",
    "        print m.groupdict()"
   ]
  },
  {
   "cell_type": "code",
   "execution_count": 58,
   "metadata": {
    "collapsed": true
   },
   "outputs": [],
   "source": [
    "posts = [\"\"\"POST /static/img/congruence1.jpg HTTP/1.1 200\"\"\",\n",
    "\"\"\"POST /static/img/team/arnold.png HTTP/1.1 404\"\"\",\n",
    "]"
   ]
  },
  {
   "cell_type": "code",
   "execution_count": 72,
   "metadata": {
    "collapsed": false
   },
   "outputs": [],
   "source": [
    "regex = r'(?P<ajax>\\w+) (/static/img/(?P<filename>\\w+.w+))(HTTP/1.1\\s(?P<error>\\d[))'\n",
    "\n",
    "regex = r'(?P<ajax>\\w+\\s)(?P<filename>/(\\w+[\\s\\S])+\\s)HTTP/\\d.\\d (?P<status>\\d{3})'\n",
    "\n",
    "splitter = re.compile(regex)\n",
    "for post in posts:\n",
    "    m = splitter.search(post)\n",
    "    if m:\n",
    "        print m.groupdict()"
   ]
  },
  {
   "cell_type": "code",
   "execution_count": 98,
   "metadata": {
    "collapsed": false
   },
   "outputs": [],
   "source": [
    "hockey = \"\"\"\n",
    "1ST PERIOD\n",
    "05:20   WPG Jiri Tlusty  Slashing against  Carl Hagelin\n",
    "14:25   NYR Mats Zuccarello  Tripping against  Jim Slater\n",
    "2ND PERIOD\n",
    "09:31   WPG Mathieu Perreault  Interference against  Dominic Moore\n",
    "13:31   NYR Rick Nash  Hooking against  Jacob Trouba\n",
    "3RD PERIOD\n",
    "19:21   WPG Dustin Byfuglien  Slashing against  Mats Zuccarello\"\"\" \n"
   ]
  },
  {
   "cell_type": "code",
   "execution_count": 99,
   "metadata": {
    "collapsed": false
   },
   "outputs": [
    {
     "name": "stdout",
     "output_type": "stream",
     "text": [
      "5:20|WPG|Jiri Tlusty|Slashing|Carl Hagelin\n",
      "14:25|NYR|Mats Zuccarello|Tripping|Jim Slater\n",
      "9:31|WPG|Mathieu Perreault|Interference|Dominic Moore\n",
      "13:31|NYR|Rick Nash|Hooking|Jacob Trouba\n",
      "19:21|WPG|Dustin Byfuglien|Slashing|Mats Zuccarello\n"
     ]
    }
   ],
   "source": [
    "regex = r'(\\d{2}):(\\d{2})\\s+([A-Z]+)\\s+(\\w+\\s\\w+)\\s+(\\w+) against\\s+(\\w+\\s\\w+)'\n",
    "parser = re.compile(regex)\n",
    "add_minutes = 0\n",
    "for line in hockey:\n",
    "    if line == \"2ND PERIOD\":\n",
    "        add_minutes = 20\n",
    "    elif line == \"3RD PERIOD\":\n",
    "        add_minutes = 40\n",
    "\n",
    "        \n",
    "matches = parser.findall(hockey)\n",
    "\n",
    "for match in matches:\n",
    "    minutes = int(match[0]) + add_minutes\n",
    "    print \"%d:%s|%s|%s|%s|%s\" % (minutes, match[1], match[2], match[3], match[4], match[5])"
   ]
  },
  {
   "cell_type": "code",
   "execution_count": 77,
   "metadata": {
    "collapsed": false
   },
   "outputs": [
    {
     "name": "stdout",
     "output_type": "stream",
     "text": [
      "49 1\n",
      "46 1\n",
      "47 2\n",
      "30 3\n",
      "36 1\n",
      "52 1\n",
      "73 1\n",
      "1 1\n",
      "0 9\n"
     ]
    }
   ],
   "source": [
    "csvfile = [\n",
    "    '36,0,3,0,1',\n",
    "    '73,1,3,0,1',\n",
    "    '30,0,3,0,1',\n",
    "    '49,1,3,0,1',\n",
    "    '47,1,11,0,1',\n",
    "    '47,0,11,1,1',\n",
    "    '46,0,5,0,1',\n",
    "    '30,0,3,0,1',\n",
    "    '52,0,4,0,1',\n",
    "    '30,0,3,0,1',\n",
    "]\n",
    "\n",
    "from collections import defaultdict\n",
    "age = defaultdict(int)\n",
    "hits = defaultdict(int)\n",
    "for row in csvfile:\n",
    "    a, b, c, d, e = row.split(',')\n",
    "    age[a] += 1\n",
    "    hits[d] += 1\n",
    "\n",
    "for k,v in age.items():\n",
    "    print k, v\n",
    "    \n",
    "for k,v in hits.items():\n",
    "    print k, v"
   ]
  },
  {
   "cell_type": "code",
   "execution_count": 78,
   "metadata": {
    "collapsed": false
   },
   "outputs": [
    {
     "name": "stdout",
     "output_type": "stream",
     "text": [
      "defaultdict(<type 'int'>, {'I': 6, 'W': 5})\n",
      "defaultdict(<type 'int'>, {'10:18 W': 2, '10:17 I': 5, '10:18 I': 1, '10:17 W': 3})\n"
     ]
    }
   ],
   "source": [
    "ipythonlogs = [\n",
    "    \"\"\"[I 10:17:42.633 NotebookApp] Using MathJax from CDN: https://cdn.mathjax.org/mathjax/latest/MathJax.js\"\"\",\n",
    "    \"\"\"[W 10:17:42.670 NotebookApp] Terminals not available (error was No module named terminado)\"\"\",\n",
    "    \"\"\"[I 10:17:42.670 NotebookApp] Serving notebooks from local directory: /Users/macbook/projects/\"\"\",\n",
    "    \"\"\"[I 10:17:42.670 NotebookApp] 0 active kernels\"\"\",\n",
    "    \"\"\"[I 10:17:42.670 NotebookApp] The IPython Notebook is running at: http://localhost:8888/\"\"\",\n",
    "    \"\"\"[I 10:17:42.670 NotebookApp] Use Control-C to stop this server and shut down all kernels (twice to skip confirmation).\"\"\",\n",
    "    \"\"\"[W 10:17:51.036 NotebookApp] 404 GET /api/kernels/ff97dfc7-e80a-49a5-9064-6d68d4fdbeb5/channels?session_id=7B3E0E7D6F024DA4A43433953CAF3B73 (::1): Kernel does not exist: ff97dfc7-e80a-49a5-9064-6d68d4fdbeb5\"\"\",\n",
    "    \"\"\"[W 10:17:51.051 NotebookApp] 404 GET /api/kernels/ff97dfc7-e80a-49a5-9064-6d68d4fdbeb5/channels?session_id=7B3E0E7D6F024DA4A43433953CAF3B73 (::1) 17.13ms referer=None\"\"\",\n",
    "    \"\"\"[I 10:18:09.405 NotebookApp] Kernel started: 82092ca9-abb3-4196-a967-0694c8a3bec4\"\"\",\n",
    "    \"\"\"[W 10:18:56.046 NotebookApp] 404 GET /api/kernels/ff97dfc7-e80a-49a5-9064-6d68d4fdbeb5/channels?session_id=7B3E0E7D6F024DA4A43433953CAF3B73 (::1): Kernel does not exist: ff97dfc7-e80a-49a5-9064-6d68d4fdbeb5\"\"\",\n",
    "    \"\"\"[W 10:18:56.047 NotebookApp] 404 GET /api/kernels/ff97dfc7-e80a-49a5-9064-6d68d4fdbeb5/channels?session_id=7B3E0E7D6F024DA4A43433953CAF3B73 (::1) 2.11ms referer=None\"\"\",\n",
    "]\n",
    "### aggregating the info [i] vs warning [w] should be relatively straightforward:\n",
    "loggertypes = defaultdict(int)\n",
    "for row in ipythonlogs:\n",
    "    logtype = row[1]\n",
    "    loggertypes[logtype] += 1\n",
    "\n",
    "print loggertypes\n",
    "\n",
    "### How do we aggregate types by minute?\n",
    "loggertypes = defaultdict(int)\n",
    "for row in ipythonlogs:\n",
    "    logtype = row[1:8]\n",
    "    # \"sort\" by time instead, so let's reorder the key:\n",
    "    logtype = ' '.join([logtype.split()[1],logtype.split()[0]]) \n",
    "    loggertypes[logtype] += 1\n",
    "\n",
    "print loggertypes"
   ]
  },
  {
   "cell_type": "markdown",
   "metadata": {},
   "source": [
    "**Work through a larger subset of penalties to aggregate**\n",
    "\n",
    "1. penalties by team\n",
    "2. penalties by player (either who did it or who it targeted)\n",
    "3. penalties by period"
   ]
  },
  {
   "cell_type": "code",
   "execution_count": 94,
   "metadata": {
    "collapsed": false
   },
   "outputs": [],
   "source": [
    "penalties = \"\"\"1ST PERIOD\n",
    "02:16   ANA Tim Jackman  Fighting (maj) against  John Scott\n",
    "02:16   SJS John Scott  Fighting (maj) against  Tim Jackman\n",
    "12:53   SJS Adam Burish  Slashing against  Tim Jackman\n",
    "15:38   SJS Matt Nieto  Hooking against  Matt Beleskey\n",
    "18:38   ANA Tim Jackman  Hooking against  Tommy Wingels\n",
    "2ND PERIOD\n",
    "04:35   SJS Justin Braun  Holding against  Jakob Silfverberg\n",
    "09:40   SJS Scott Hannan  Hi-sticking against  Sami Vatanen\n",
    "09:40   ANA Sami Vatanen  Embellishment against  Scott Hannan\n",
    "09:52   SJS Mirco Mueller  Unsportsmanlike conduct against  Ryan Getzlaf\n",
    "09:52   ANA Ryan Getzlaf  Unsportsmanlike conduct against  Mirco Mueller\n",
    "15:23   SJS Adam Burish  Delay Gm - Face-off Violation\n",
    "18:57   SJS Tommy Wingels  Fighting (maj) against  Corey Perry\n",
    "18:57   ANA Corey Perry  Fighting (maj) against  Tommy Wingels\n",
    "3RD PERIOD\n",
    "07:38   ANA Sami Vatanen  Holding against  Tommy Wingels\n",
    "10:18   SJS Joe Pavelski  Fighting (maj) against  Ben Lovejoy\n",
    "10:18   ANA Ben Lovejoy  Fighting (maj) against  Joe Pavelski\n",
    "10:18   ANA Tim Jackman  Roughing against  Marc-Edouard Vlasic\n",
    "10:18   ANA Tim Jackman  Roughing against  Marc-Edouard Vlasic\n",
    "12:58   SJS Justin Braun  Misconduct (10 min) against  Corey Perry\n",
    "12:58   ANA Corey Perry  Misconduct (10 min) against  Justin Braun\n",
    "12:58   ANA Corey Perry  Roughing against  Justin Braun\n",
    "12:58   SJS Justin Braun  Roughing against  Corey Perry\n",
    "13:56   SJS Adam Burish  Roughing against  Nate Thompson\n",
    "13:56   SJS Adam Burish  Misconduct (10 min)\n",
    "13:56   SJS John Scott  Game misconduct\n",
    "13:56   SJS John Scott  Fighting (maj) against  Tim Jackman\n",
    "13:56   SJS John Scott  Instigator against  Tim Jackman\n",
    "13:56   SJS John Scott  Player leaves bench - bench against  Hampus Lindholm\n",
    "13:56   ANA Nate Thompson  Misconduct (10 min)\n",
    "13:56   ANA Nate Thompson  Roughing against  Adam Burish\n",
    "13:56   ANA Nate Thompson  Roughing against  Adam Burish\n",
    "13:56   ANA Tim Jackman  Misconduct (10 min) against  John Scott\n",
    "16:54   ANA Matt Beleskey  Misconduct (10 min)\n",
    "16:54   ANA William Karlsson  Slashing against  Marc-Edouard Vlasic\n",
    "16:54   ANA Ryan Getzlaf  Fighting (maj) against  James Sheppard\n",
    "16:54   SJS James Sheppard  Fighting (maj) against  Ryan Getzlaf\n",
    "16:54   ANA Ryan Kesler  Misconduct (10 min)\"\"\"\n"
   ]
  },
  {
   "cell_type": "code",
   "execution_count": 95,
   "metadata": {
    "collapsed": false
   },
   "outputs": [
    {
     "name": "stdout",
     "output_type": "stream",
     "text": [
      "['', '1ST PERIOD', '\\n02:16   ANA Tim Jackman  Fighting (maj) against  John Scott\\n02:16   SJS John Scott  Fighting (maj) against  Tim Jackman\\n12:53   SJS Adam Burish  Slashing against  Tim Jackman\\n15:38   SJS Matt Nieto  Hooking against  Matt Beleskey\\n18:38   ANA Tim Jackman  Hooking against  Tommy Wingels\\n', '2ND PERIOD', '\\n04:35   SJS Justin Braun  Holding against  Jakob Silfverberg\\n09:40   SJS Scott Hannan  Hi-sticking against  Sami Vatanen\\n09:40   ANA Sami Vatanen  Embellishment against  Scott Hannan\\n09:52   SJS Mirco Mueller  Unsportsmanlike conduct against  Ryan Getzlaf\\n09:52   ANA Ryan Getzlaf  Unsportsmanlike conduct against  Mirco Mueller\\n15:23   SJS Adam Burish  Delay Gm - Face-off Violation\\n18:57   SJS Tommy Wingels  Fighting (maj) against  Corey Perry\\n18:57   ANA Corey Perry  Fighting (maj) against  Tommy Wingels\\n', '3RD PERIOD', '\\n07:38   ANA Sami Vatanen  Holding against  Tommy Wingels\\n10:18   SJS Joe Pavelski  Fighting (maj) against  Ben Lovejoy\\n10:18   ANA Ben Lovejoy  Fighting (maj) against  Joe Pavelski\\n10:18   ANA Tim Jackman  Roughing against  Marc-Edouard Vlasic\\n10:18   ANA Tim Jackman  Roughing against  Marc-Edouard Vlasic\\n12:58   SJS Justin Braun  Misconduct (10 min) against  Corey Perry\\n12:58   ANA Corey Perry  Misconduct (10 min) against  Justin Braun\\n12:58   ANA Corey Perry  Roughing against  Justin Braun\\n12:58   SJS Justin Braun  Roughing against  Corey Perry\\n13:56   SJS Adam Burish  Roughing against  Nate Thompson\\n13:56   SJS Adam Burish  Misconduct (10 min)\\n13:56   SJS John Scott  Game misconduct\\n13:56   SJS John Scott  Fighting (maj) against  Tim Jackman\\n13:56   SJS John Scott  Instigator against  Tim Jackman\\n13:56   SJS John Scott  Player leaves bench - bench against  Hampus Lindholm\\n13:56   ANA Nate Thompson  Misconduct (10 min)\\n13:56   ANA Nate Thompson  Roughing against  Adam Burish\\n13:56   ANA Nate Thompson  Roughing against  Adam Burish\\n13:56   ANA Tim Jackman  Misconduct (10 min) against  John Scott\\n16:54   ANA Matt Beleskey  Misconduct (10 min)\\n16:54   ANA William Karlsson  Slashing against  Marc-Edouard Vlasic\\n16:54   ANA Ryan Getzlaf  Fighting (maj) against  James Sheppard\\n16:54   SJS James Sheppard  Fighting (maj) against  Ryan Getzlaf\\n16:54   ANA Ryan Kesler  Misconduct (10 min)']\n"
     ]
    }
   ],
   "source": [
    "by_per = re.split(r'(\\d{1}\\w{2} PERIOD)', penalties)\n",
    "print by_per"
   ]
  },
  {
   "cell_type": "code",
   "execution_count": null,
   "metadata": {
    "collapsed": true
   },
   "outputs": [],
   "source": [
    "penalty_string = r'(?P<time>\\d{2}:\\d{2})   (?P<team>\\w{3}) (?P<given_to>\\w+ \\w+)  (?P<penalty>[\\w\\(\\-\\)\\s]+)?( against  )?(?P<player>\\w+ \\w+)?'"
   ]
  },
  {
   "cell_type": "markdown",
   "metadata": {},
   "source": [
    "#Check in on this stuff ^^ maybe talk to teachers at office hours"
   ]
  },
  {
   "cell_type": "markdown",
   "metadata": {},
   "source": [
    "#Creating a Mini Map Reduce Process \n",
    "##(Not MapReduce, that's Google's Thing)"
   ]
  },
  {
   "cell_type": "code",
   "execution_count": 107,
   "metadata": {
    "collapsed": false
   },
   "outputs": [
    {
     "name": "stdout",
     "output_type": "stream",
     "text": [
      "[('the', 1), ('quick', 1), ('brown', 1), ('fox', 1), ('jumped', 1), ('over', 1), ('the', 1), ('lazy', 1), ('dog', 1)]\n"
     ]
    }
   ],
   "source": [
    "def mapper(line):\n",
    "    result = []\n",
    "    # remove leading and trailing whitespace\n",
    "    line = line.strip()\n",
    "    # remove odd symbols from the text\n",
    "    line = re.sub('[!\"§$%&/()=?*#()\\[\\],.<>:;~_-]',\"\", line)\n",
    "    # split the line into words\n",
    "    words = line.split(\" \")\n",
    "    # insert the cleaned words into the results list\n",
    "    for word in words:\n",
    "        result.append((word.lower(), 1))\n",
    "    # output is a list of (key, value) pairs\n",
    "    return result\n",
    "\n",
    "print mapper('the quick brown fox jumped over the lazy dog')"
   ]
  },
  {
   "cell_type": "code",
   "execution_count": 108,
   "metadata": {
    "collapsed": true
   },
   "outputs": [],
   "source": [
    "def reducer(key, values):\n",
    "    return key, sum(values)"
   ]
  },
  {
   "cell_type": "code",
   "execution_count": 109,
   "metadata": {
    "collapsed": true
   },
   "outputs": [],
   "source": [
    "def shuffle(words, print_shuffle=False):\n",
    "    tmp = \"\"\n",
    "    val_list = []\n",
    "    for i in words:\n",
    "        if tmp and i[0] != tmp:\n",
    "            if print_shuffle:\n",
    "                print tmp, val_list\n",
    "            print reducer(tmp,val_list)\n",
    "            val_list=[]\n",
    "        tmp = i[0]\n",
    "        val_list.append(i[1])\n",
    "    # Don't forget to print out the last key value pair!\n",
    "    if print_shuffle:\n",
    "        print tmp, val_list\n",
    "    print reducer(tmp,val_list)"
   ]
  },
  {
   "cell_type": "code",
   "execution_count": 104,
   "metadata": {
    "collapsed": false
   },
   "outputs": [
    {
     "name": "stdout",
     "output_type": "stream",
     "text": [
      "brown [1]\n",
      "('brown', 1)\n",
      "dog [1]\n",
      "('dog', 1)\n",
      "fox [1]\n",
      "('fox', 1)\n",
      "jumped [1]\n",
      "('jumped', 1)\n",
      "lazy [1]\n",
      "('lazy', 1)\n",
      "over [1]\n",
      "('over', 1)\n",
      "quick [1]\n",
      "('quick', 1)\n",
      "the [1, 1]\n",
      "('the', 2)\n"
     ]
    }
   ],
   "source": [
    "# while this looks \"backwards,\" mapper is called first,\n",
    "# then we sort,\n",
    "#then shuffle runs the reducer.\n",
    "shuffle(sorted(mapper('the quick brown fox jumped over the lazy dog')), print_shuffle=True)"
   ]
  },
  {
   "cell_type": "code",
   "execution_count": 114,
   "metadata": {
    "collapsed": true
   },
   "outputs": [],
   "source": [
    "green_eggs=\"I will not eat them in a house, i will not eat them with a mouse, i will not eat them in a box i will not eat them with a fox, i will not eat them here of there i will not eat them anywhere, I do not like green eggs and ham i do not like them sam i am.\""
   ]
  },
  {
   "cell_type": "code",
   "execution_count": 115,
   "metadata": {
    "collapsed": false
   },
   "outputs": [
    {
     "name": "stdout",
     "output_type": "stream",
     "text": [
      "('a', 4)\n",
      "('am', 1)\n",
      "('and', 1)\n",
      "('anywhere', 1)\n",
      "('box', 1)\n",
      "('do', 2)\n",
      "('eat', 6)\n",
      "('eggs', 1)\n",
      "('fox', 1)\n",
      "('green', 1)\n",
      "('ham', 1)\n",
      "('here', 1)\n",
      "('house', 1)\n",
      "('i', 9)\n",
      "('in', 2)\n",
      "('like', 2)\n",
      "('mouse', 1)\n",
      "('not', 8)\n",
      "('of', 1)\n",
      "('sam', 1)\n",
      "('them', 7)\n",
      "('there', 1)\n",
      "('will', 6)\n",
      "('with', 2)\n"
     ]
    }
   ],
   "source": [
    "shuffle(sorted(mapper(green_eggs)))"
   ]
  },
  {
   "cell_type": "code",
   "execution_count": 116,
   "metadata": {
    "collapsed": false
   },
   "outputs": [
    {
     "name": "stdout",
     "output_type": "stream",
     "text": [
      "('big', 2)\n",
      "('data', 1)\n",
      "('big', 1)\n",
      "('data', 1)\n",
      "('science!', 1)\n"
     ]
    }
   ],
   "source": [
    "import multiprocessing\n",
    "\n",
    "def word_mapper(word):\n",
    "    return (word, 1)\n",
    "\n",
    "line = 'big big data big data science!'\n",
    "words = line.split()\n",
    "pool = multiprocessing.Pool(len(words))\n",
    "\n",
    "mapped_words = pool.map(word_mapper, words)\n",
    "pool.terminate()\n",
    "\n",
    "shuffle(mapped_words)"
   ]
  },
  {
   "cell_type": "code",
   "execution_count": null,
   "metadata": {
    "collapsed": true
   },
   "outputs": [],
   "source": []
  }
 ],
 "metadata": {
  "kernelspec": {
   "display_name": "Python 2",
   "language": "python",
   "name": "python2"
  },
  "language_info": {
   "codemirror_mode": {
    "name": "ipython",
    "version": 2
   },
   "file_extension": ".py",
   "mimetype": "text/x-python",
   "name": "python",
   "nbconvert_exporter": "python",
   "pygments_lexer": "ipython2",
   "version": "2.7.10"
  }
 },
 "nbformat": 4,
 "nbformat_minor": 0
}
