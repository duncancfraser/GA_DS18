{
 "cells": [
  {
   "cell_type": "code",
   "execution_count": 1,
   "metadata": {
    "collapsed": false
   },
   "outputs": [
    {
     "name": "stdout",
     "output_type": "stream",
     "text": [
      "9.7503716551\n"
     ]
    }
   ],
   "source": [
    "import numpy as np\n",
    "def find_expected_value(confusion, cost_benefit):\n",
    "    # if you use a probability matrix instead, this next line will return the same matrix back\n",
    "    probabilities = confusion.astype('float') / confusion.sum()\n",
    "    return (probabilities * cost_benefit.astype('float')).sum()\n",
    "\n",
    "cb = np.array([[45.0, -30.0], [0, 0]])\n",
    "\n",
    "conf = np.array([[45423, 13041], [98724, 12324]])\n",
    "print find_expected_value(conf, cb)"
   ]
  },
  {
   "cell_type": "code",
   "execution_count": 2,
   "metadata": {
    "collapsed": false
   },
   "outputs": [
    {
     "data": {
      "text/plain": [
       "11.075589589401485"
      ]
     },
     "execution_count": 2,
     "metadata": {},
     "output_type": "execute_result"
    }
   ],
   "source": [
    "new_conf = np.array([[62153, 7501], [4735, 32041]])\n",
    "new_cb = np.array([[25.0, -50.0], [0, 0]])\n",
    "find_expected_value(new_conf, new_cb)"
   ]
  },
  {
   "cell_type": "code",
   "execution_count": 3,
   "metadata": {
    "collapsed": false
   },
   "outputs": [],
   "source": [
    "lemons_cb = np.array([[0, 0], [-6278.22, 672.82]])\n",
    "lemons_confusion = np.array([[292, 66], [5997, 44733]])"
   ]
  },
  {
   "cell_type": "code",
   "execution_count": 5,
   "metadata": {
    "collapsed": false
   },
   "outputs": [
    {
     "data": {
      "text/plain": [
       "-147.84740604447222"
      ]
     },
     "execution_count": 5,
     "metadata": {},
     "output_type": "execute_result"
    }
   ],
   "source": [
    "find_expected_value(lemons_confusion, lemons_cb)"
   ]
  }
 ],
 "metadata": {
  "kernelspec": {
   "display_name": "Python 2",
   "language": "python",
   "name": "python2"
  },
  "language_info": {
   "codemirror_mode": {
    "name": "ipython",
    "version": 2
   },
   "file_extension": ".py",
   "mimetype": "text/x-python",
   "name": "python",
   "nbconvert_exporter": "python",
   "pygments_lexer": "ipython2",
   "version": "2.7.10"
  }
 },
 "nbformat": 4,
 "nbformat_minor": 0
}
