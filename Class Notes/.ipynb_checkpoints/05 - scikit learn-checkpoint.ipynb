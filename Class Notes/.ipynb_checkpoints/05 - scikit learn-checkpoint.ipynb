{
 "cells": [
  {
   "cell_type": "markdown",
   "metadata": {},
   "source": [
    "#Machine Learning Workflow and SKLearn\n",
    "###February 18, 2015"
   ]
  },
  {
   "cell_type": "code",
   "execution_count": 2,
   "metadata": {
    "collapsed": false
   },
   "outputs": [],
   "source": [
    "%matplotlib inline\n",
    "# matplotlib is less specific and doesn't import anything \"extra\" compared to %pylab inline"
   ]
  },
  {
   "cell_type": "code",
   "execution_count": 3,
   "metadata": {
    "collapsed": false
   },
   "outputs": [],
   "source": [
    "import pandas as pd\n",
    "import numpy as np\n",
    "import matplotlib.pyplot as plt\n",
    "import seaborn as sns\n",
    "from __future__ import division\n",
    "pd.set_option('display.max_rows', 500)\n",
    "pd.set_option('display.max_columns', 50)\n",
    "pd.set_option('display.width', 1000)"
   ]
  },
  {
   "cell_type": "code",
   "execution_count": 4,
   "metadata": {
    "collapsed": false
   },
   "outputs": [
    {
     "name": "stdout",
     "output_type": "stream",
     "text": [
      "              coef       p-value\n",
      "column                          \n",
      "CRIM     -0.101202  2.083550e-19\n",
      "ZN        0.062922  5.713584e-17\n",
      "INDUS    -0.024451  4.900260e-31\n",
      "CHAS      2.743707  7.390623e-05\n",
      "NOX     -22.724112  7.065042e-24\n",
      "RM        2.415003  2.487229e-74\n",
      "AGE       0.004942  1.569982e-18\n",
      "DIS      -1.904339  1.206612e-08\n",
      "RAD       0.389172  5.465933e-19\n",
      "TAX      -0.014100  5.637734e-29\n",
      "PTRATIO  -1.118604  1.609509e-34\n",
      "B         0.007027  1.318113e-14\n",
      "LSTAT    -0.587270  5.081103e-88\n",
      "\n",
      "0.72839057184\n",
      "0.72839057184\n",
      "\n",
      "0.736360506263\n",
      "0.736360506263\n"
     ]
    }
   ],
   "source": [
    "from sklearn import feature_selection as f_select # Imports feature selection package from scklearn as f_select\n",
    "from sklearn import linear_model as lm # Imports linear modeling package from scklearn as lm\n",
    "from sklearn import cross_validation as cv # Imports cross validation package from scklearn as cv\n",
    "from sklearn import metrics # Imports metrics package from sklearn\n",
    "from sklearn.datasets import load_boston # loads boston package from sklearn.datasets\n",
    "\n",
    "boston = load_boston() # ??\n",
    "desc = boston.DESCR  # ??\n",
    "bostondf = pd.DataFrame(boston.data, columns=boston.feature_names) # creates a dataframe from boston.data, with columns takes from boston.feature_names \n",
    "bostondf['MEDV'] = boston.target # creates column in bostondf called MEDV based on boston.target\n",
    "\n",
    "x_columns = list(bostondf.columns) # names a list x columns as a list of the columns from the boston dataframe\n",
    "y_column = 'MEDV' # names a single string list y column as MEDV\n",
    "x_columns.remove(y_column) # Removes MEDV from the x columns list\n",
    "\n",
    "significant_columns = [] # Creates an empty list called significant_columns\n",
    "pvals = [] # Creates an empty list called pvals\n",
    "for feature in x_columns: # For loop which pulls out all the features and their correlation to the target variable (MEDV)\n",
    "    pval = f_select.f_regression(bostondf[[feature]], bostondf[y_column])\n",
    "    if pval[1][0] < 0.05:\n",
    "        significant_columns.append(feature)\n",
    "        pvals.append(pval[1][0])\n",
    "\n",
    "x_train, x_test, y_train, y_test = cv.train_test_split(bostondf[significant_columns],\n",
    "                                                           bostondf[y_column],\n",
    "                                                           test_size=0.333,\n",
    "                                                           random_state=1234)\n",
    "\n",
    "model = lm.LinearRegression().fit(x_train, y_train)\n",
    "\n",
    "print pd.DataFrame({\n",
    "    'column': significant_columns,\n",
    "    'coef': model.coef_,\n",
    "    'p-value': pvals,\n",
    "}).set_index('column')\n",
    "print\n",
    "print 'R2 Train Score: %f' % (metrics.r2_score(y_train, model.predict(x_train)))\n",
    "print\n",
    "print 'R2 Test Score: %f' % (metrics.r2_score(y_test, model.predict(x_test)))"
   ]
  },
  {
   "cell_type": "code",
   "execution_count": 5,
   "metadata": {
    "collapsed": false
   },
   "outputs": [
    {
     "name": "stdout",
     "output_type": "stream",
     "text": [
      "20130.3658381\n",
      "27636.7743027\n",
      "0.72839057184\n"
     ]
    }
   ],
   "source": [
    "sum_squares_regr = np.sum((model.predict(x_train) - np.mean(y_train))**2)\n",
    "total_sum_squares = np.sum((y_train - np.mean(y_train))**2)\n",
    "r_squared = sum_squares_regr / total_sum_squares\n",
    "\n",
    "print sum_squares_regr\n",
    "print total_sum_squares\n",
    "print r_squared"
   ]
  },
  {
   "cell_type": "code",
   "execution_count": null,
   "metadata": {
    "collapsed": false
   },
   "outputs": [],
   "source": []
  }
 ],
 "metadata": {
  "kernelspec": {
   "display_name": "Python 2",
   "language": "python",
   "name": "python2"
  },
  "language_info": {
   "codemirror_mode": {
    "name": "ipython",
    "version": 2
   },
   "file_extension": ".py",
   "mimetype": "text/x-python",
   "name": "python",
   "nbconvert_exporter": "python",
   "pygments_lexer": "ipython2",
   "version": "2.7.10"
  }
 },
 "nbformat": 4,
 "nbformat_minor": 0
}
