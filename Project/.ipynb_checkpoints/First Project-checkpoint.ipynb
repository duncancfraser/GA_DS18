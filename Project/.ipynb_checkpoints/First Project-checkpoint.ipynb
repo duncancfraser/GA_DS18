{
 "metadata": {
  "name": "",
  "signature": "sha256:c4accf4e51c3ff681627cafea5d2d2d060dceab32c34974974ef803adbbd5ad6"
 },
 "nbformat": 3,
 "nbformat_minor": 0,
 "worksheets": []
}