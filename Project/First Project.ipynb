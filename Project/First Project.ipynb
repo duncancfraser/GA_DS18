{
 "metadata": {
  "name": "",
  "signature": "sha256:157cb74174653c9cd48c797ee88e02831495cc449f6de5bc0ed3c4c869778504"
 },
 "nbformat": 3,
 "nbformat_minor": 0,
 "worksheets": [
  {
   "cells": [
    {
     "cell_type": "markdown",
     "metadata": {},
     "source": [
      "#Where to Stay? \n",
      "Looking at City Features and AirBnB Listings in NYC\n",
      "\n",
      "###Objective\n",
      "Explore the relationship between listing price and city features.\n",
      "Features of interest include:\n",
      "\n",
      "* Restaraunt frequency and average health grade\n",
      "* Demographic and income information\n",
      "* Noise complaint frequency \n",
      "* Access to citi-bike stations and subways\n",
      "* Movie theater frequency"
     ]
    },
    {
     "cell_type": "code",
     "collapsed": false,
     "input": [],
     "language": "python",
     "metadata": {},
     "outputs": []
    }
   ],
   "metadata": {}
  }
 ]
}